{
 "cells": [
  {
   "cell_type": "markdown",
   "metadata": {},
   "source": [
    "# Sleep Score Withings Data\n",
    "\n",
    "At home I use a sleep tracker from withing which every day yields a certain sleepscore. The sensors track heart rate, sleep duration, time in the sleephases, interruptions etc.\n",
    "I will enrich that data with weather data (temperature during the night), weight data from my Garmin Smart Scale and seasonality data. The goal is to create an ML Model with which theoratically could predict good sleep vs bad sleep. A sleep score above 85 will be seen as good sleep.\n",
    "\n",
    "\n",
    "* Create Dataset\n",
    "* EDA"
   ]
  },
  {
   "cell_type": "code",
   "execution_count": 333,
   "metadata": {},
   "outputs": [],
   "source": [
    "#Load packages\n",
    "import pandas as pd\n",
    "import numpy as np\n",
    "import matplotlib.pyplot as plt\n",
    "import re\n",
    "from datetime import datetime\n",
    "import seaborn as sns\n",
    "from sklearn.metrics import roc_auc_score\n",
    "from sklearn.model_selection import KFold\n",
    "from tqdm.auto import tqdm"
   ]
  },
  {
   "cell_type": "markdown",
   "metadata": {},
   "source": [
    "## Create Dataset"
   ]
  },
  {
   "cell_type": "code",
   "execution_count": 334,
   "metadata": {},
   "outputs": [],
   "source": [
    "#Read Data\n",
    "df_weight = pd.read_csv('weight_garmin.csv')\n",
    "df_sleep_stats = pd.read_csv('sleep_stats_withings.csv')\n",
    "df_weather = pd.read_csv('weather.csv')\n",
    "#This will be the variable to predict\n",
    "df_sleepscore = pd.read_excel('sleepscore.xlsx')\n",
    "df_seasonality = pd.DataFrame(columns = ['date','day','season'])"
   ]
  },
  {
   "cell_type": "code",
   "execution_count": 335,
   "metadata": {},
   "outputs": [
    {
     "data": {
      "text/html": [
       "<div>\n",
       "<style scoped>\n",
       "    .dataframe tbody tr th:only-of-type {\n",
       "        vertical-align: middle;\n",
       "    }\n",
       "\n",
       "    .dataframe tbody tr th {\n",
       "        vertical-align: top;\n",
       "    }\n",
       "\n",
       "    .dataframe thead th {\n",
       "        text-align: right;\n",
       "    }\n",
       "</style>\n",
       "<table border=\"1\" class=\"dataframe\">\n",
       "  <thead>\n",
       "    <tr style=\"text-align: right;\">\n",
       "      <th></th>\n",
       "      <th>date</th>\n",
       "    </tr>\n",
       "  </thead>\n",
       "  <tbody>\n",
       "    <tr>\n",
       "      <th>0</th>\n",
       "      <td>2023-02-13</td>\n",
       "    </tr>\n",
       "    <tr>\n",
       "      <th>1</th>\n",
       "      <td>2023-02-14</td>\n",
       "    </tr>\n",
       "    <tr>\n",
       "      <th>2</th>\n",
       "      <td>2023-02-15</td>\n",
       "    </tr>\n",
       "    <tr>\n",
       "      <th>3</th>\n",
       "      <td>2023-02-16</td>\n",
       "    </tr>\n",
       "    <tr>\n",
       "      <th>4</th>\n",
       "      <td>2023-02-17</td>\n",
       "    </tr>\n",
       "    <tr>\n",
       "      <th>...</th>\n",
       "      <td>...</td>\n",
       "    </tr>\n",
       "    <tr>\n",
       "      <th>251</th>\n",
       "      <td>2023-10-22</td>\n",
       "    </tr>\n",
       "    <tr>\n",
       "      <th>252</th>\n",
       "      <td>2023-10-23</td>\n",
       "    </tr>\n",
       "    <tr>\n",
       "      <th>253</th>\n",
       "      <td>2023-10-24</td>\n",
       "    </tr>\n",
       "    <tr>\n",
       "      <th>254</th>\n",
       "      <td>2023-10-25</td>\n",
       "    </tr>\n",
       "    <tr>\n",
       "      <th>255</th>\n",
       "      <td>2023-10-26</td>\n",
       "    </tr>\n",
       "  </tbody>\n",
       "</table>\n",
       "<p>256 rows × 1 columns</p>\n",
       "</div>"
      ],
      "text/plain": [
       "          date\n",
       "0   2023-02-13\n",
       "1   2023-02-14\n",
       "2   2023-02-15\n",
       "3   2023-02-16\n",
       "4   2023-02-17\n",
       "..         ...\n",
       "251 2023-10-22\n",
       "252 2023-10-23\n",
       "253 2023-10-24\n",
       "254 2023-10-25\n",
       "255 2023-10-26\n",
       "\n",
       "[256 rows x 1 columns]"
      ]
     },
     "execution_count": 335,
     "metadata": {},
     "output_type": "execute_result"
    }
   ],
   "source": [
    "#Find relevant date range\n",
    "start_date = df_sleepscore['date'].min()\n",
    "end_date = df_sleepscore['date'].max()\n",
    "\n",
    "#Create numpy array with daterange start to end\n",
    "\n",
    "daterange = np.arange(start_date, end_date, np.timedelta64(1,'D'))\n",
    "\n",
    "#Create empty dataframe with dates to join\n",
    "df_date = pd.DataFrame()\n",
    "df_date['date'] = daterange\n",
    "\n",
    "df_date"
   ]
  },
  {
   "cell_type": "markdown",
   "metadata": {},
   "source": [
    "#### Process Weight Data"
   ]
  },
  {
   "cell_type": "code",
   "execution_count": 336,
   "metadata": {},
   "outputs": [
    {
     "data": {
      "text/html": [
       "<div>\n",
       "<style scoped>\n",
       "    .dataframe tbody tr th:only-of-type {\n",
       "        vertical-align: middle;\n",
       "    }\n",
       "\n",
       "    .dataframe tbody tr th {\n",
       "        vertical-align: top;\n",
       "    }\n",
       "\n",
       "    .dataframe thead th {\n",
       "        text-align: right;\n",
       "    }\n",
       "</style>\n",
       "<table border=\"1\" class=\"dataframe\">\n",
       "  <thead>\n",
       "    <tr style=\"text-align: right;\">\n",
       "      <th></th>\n",
       "      <th>Zeit</th>\n",
       "      <th>Gewicht</th>\n",
       "      <th>Veränderung</th>\n",
       "      <th>BMI</th>\n",
       "      <th>Körperfett</th>\n",
       "      <th>Skelettmuskelmasse</th>\n",
       "      <th>Knochenmasse</th>\n",
       "      <th>Körperwasser</th>\n",
       "      <th>Unnamed: 8</th>\n",
       "    </tr>\n",
       "  </thead>\n",
       "  <tbody>\n",
       "    <tr>\n",
       "      <th>0</th>\n",
       "      <td>Okt 24, 2023</td>\n",
       "      <td>NaN</td>\n",
       "      <td>NaN</td>\n",
       "      <td>NaN</td>\n",
       "      <td>NaN</td>\n",
       "      <td>NaN</td>\n",
       "      <td>NaN</td>\n",
       "      <td>NaN</td>\n",
       "      <td>NaN</td>\n",
       "    </tr>\n",
       "    <tr>\n",
       "      <th>1</th>\n",
       "      <td>7:13 AM</td>\n",
       "      <td>79.6 kg</td>\n",
       "      <td>0.1 kg</td>\n",
       "      <td>24.8</td>\n",
       "      <td>22 %</td>\n",
       "      <td>33.7 kg</td>\n",
       "      <td>5.1 kg</td>\n",
       "      <td>56.9 %</td>\n",
       "      <td>NaN</td>\n",
       "    </tr>\n",
       "    <tr>\n",
       "      <th>2</th>\n",
       "      <td>Okt 17, 2023</td>\n",
       "      <td>NaN</td>\n",
       "      <td>NaN</td>\n",
       "      <td>NaN</td>\n",
       "      <td>NaN</td>\n",
       "      <td>NaN</td>\n",
       "      <td>NaN</td>\n",
       "      <td>NaN</td>\n",
       "      <td>NaN</td>\n",
       "    </tr>\n",
       "    <tr>\n",
       "      <th>3</th>\n",
       "      <td>8:26 AM</td>\n",
       "      <td>79.5 kg</td>\n",
       "      <td>1.1 kg</td>\n",
       "      <td>24.8</td>\n",
       "      <td>22.3 %</td>\n",
       "      <td>33.6 kg</td>\n",
       "      <td>5.0 kg</td>\n",
       "      <td>56.7 %</td>\n",
       "      <td>NaN</td>\n",
       "    </tr>\n",
       "    <tr>\n",
       "      <th>4</th>\n",
       "      <td>Okt 16, 2023</td>\n",
       "      <td>NaN</td>\n",
       "      <td>NaN</td>\n",
       "      <td>NaN</td>\n",
       "      <td>NaN</td>\n",
       "      <td>NaN</td>\n",
       "      <td>NaN</td>\n",
       "      <td>NaN</td>\n",
       "      <td>NaN</td>\n",
       "    </tr>\n",
       "  </tbody>\n",
       "</table>\n",
       "</div>"
      ],
      "text/plain": [
       "            Zeit  Gewicht Veränderung   BMI Körperfett Skelettmuskelmasse  \\\n",
       "0   Okt 24, 2023      NaN         NaN   NaN        NaN                NaN   \n",
       "1        7:13 AM  79.6 kg      0.1 kg  24.8       22 %            33.7 kg   \n",
       "2   Okt 17, 2023      NaN         NaN   NaN        NaN                NaN   \n",
       "3        8:26 AM  79.5 kg      1.1 kg  24.8     22.3 %            33.6 kg   \n",
       "4   Okt 16, 2023      NaN         NaN   NaN        NaN                NaN   \n",
       "\n",
       "  Knochenmasse Körperwasser  Unnamed: 8  \n",
       "0          NaN          NaN         NaN  \n",
       "1       5.1 kg       56.9 %         NaN  \n",
       "2          NaN          NaN         NaN  \n",
       "3       5.0 kg       56.7 %         NaN  \n",
       "4          NaN          NaN         NaN  "
      ]
     },
     "execution_count": 336,
     "metadata": {},
     "output_type": "execute_result"
    }
   ],
   "source": [
    "### Process Weight\n",
    "df_weight.head()"
   ]
  },
  {
   "cell_type": "code",
   "execution_count": 337,
   "metadata": {},
   "outputs": [],
   "source": [
    "#Weight dataframe shows date with nan values and then the actual values below with time measured\n",
    "\n",
    "#Get the index of all dates, apply regex finding values with a year in it '\\d{4}'\n",
    "df_weight_dates = df_weight[df_weight['Zeit'].str.contains('\\d{4}', regex = True)].Zeit.values\n",
    "df_weight_dates_indices = df_weight[df_weight['Zeit'].str.contains('\\d{4}', regex = True)].index\n",
    "\n",
    "\n",
    "#Get the indices with values with date index + 1\n",
    "df_weight_measurements_indices = list(df_weight_dates_indices + 1)\n",
    "df_weight_measurements = df_weight.iloc[df_weight_measurements_indices,:]\n",
    "df_weight_measurements = df_weight_measurements.rename(columns = {'Zeit':'date','Gewicht':'weight', 'BMI':'bmi', 'Körperfett':'bodyfat_perc','Skelettmuskelmasse':'musclemass_perc'}).copy()\n",
    "df_weight_measurements.loc[:,'date'] = df_weight_dates\n",
    "\n",
    "df_weight_measurements.reset_index(inplace = True)\n",
    "\n",
    "df_weight_measurements = df_weight_measurements.loc[:,['date','weight','bmi','bodyfat_perc','musclemass_perc']]\n",
    "\n",
    "#Process Date column, make date format\n",
    "\n",
    "df_weight_measurements['date'] =  df_weight_measurements['date'].apply(lambda x: x.strip())\n",
    "\n",
    "#Month dictionary\n",
    "months_DE_EN = {'Okt': 'Oct', 'Mai':'May','Mrz':'Mar', 'Dez':'Dec'}\n",
    "\n",
    "translated_dates = []\n",
    "for val in df_weight_measurements['date'].values:\n",
    "    month_translated = False\n",
    "    for month in months_DE_EN:\n",
    "        if month in val:\n",
    "            val = val.replace(month,months_DE_EN[month])\n",
    "            translated_dates.append(val)\n",
    "            month_translated = True\n",
    "    if month_translated == True:\n",
    "        pass\n",
    "    else:\n",
    "        translated_dates.append(val)\n",
    "\n",
    "df_weight_measurements['date'] = translated_dates\n",
    "df_weight_measurements['date'] = pd.to_datetime(df_weight_measurements['date'],format='%b %d, %Y')\n",
    "\n",
    "#Process Other columns\n",
    "\n",
    "df_weight_measurements['weight'] = df_weight_measurements['weight'].apply(lambda x: x.replace(' kg',''))\n",
    "df_weight_measurements['weight'] = pd.to_numeric(df_weight_measurements['weight'], errors='coerce')\n",
    "\n",
    "df_weight_measurements['bmi'] = pd.to_numeric(df_weight_measurements['bmi'], errors='coerce')\n",
    "\n",
    "df_weight_measurements['bodyfat_perc'] = df_weight_measurements['bodyfat_perc'].apply(lambda x: x.replace(' %',''))\n",
    "df_weight_measurements['bodyfat_perc'] = pd.to_numeric(df_weight_measurements['bodyfat_perc'], errors='coerce')\n",
    "\n",
    "df_weight_measurements['musclemass_perc'] = df_weight_measurements['musclemass_perc'].apply(lambda x: x.replace(' kg',''))\n",
    "df_weight_measurements['musclemass_perc'] = pd.to_numeric(df_weight_measurements['musclemass_perc'], errors='coerce')\n",
    "\n",
    "#Check if there are any NA\n",
    "df_weight_measurements.isna().sum()\n",
    "\n",
    "#Fill NA with previous values\n",
    "df_weight_measurements['bodyfat_perc'] = df_weight_measurements['bodyfat_perc'].ffill()\n",
    "df_weight_measurements['musclemass_perc'] = df_weight_measurements['musclemass_perc'].ffill()\n",
    "\n"
   ]
  },
  {
   "cell_type": "code",
   "execution_count": 338,
   "metadata": {},
   "outputs": [
    {
     "name": "stdout",
     "output_type": "stream",
     "text": [
      "<class 'pandas.core.frame.DataFrame'>\n",
      "RangeIndex: 193 entries, 0 to 192\n",
      "Data columns (total 5 columns):\n",
      " #   Column           Non-Null Count  Dtype         \n",
      "---  ------           --------------  -----         \n",
      " 0   date             193 non-null    datetime64[ns]\n",
      " 1   weight           193 non-null    float64       \n",
      " 2   bmi              193 non-null    float64       \n",
      " 3   bodyfat_perc     193 non-null    float64       \n",
      " 4   musclemass_perc  193 non-null    float64       \n",
      "dtypes: datetime64[ns](1), float64(4)\n",
      "memory usage: 7.7 KB\n"
     ]
    }
   ],
   "source": [
    "#Check if there are any NA and types are correct\n",
    "df_weight_measurements.info()\n",
    "df_weight = df_weight_measurements"
   ]
  },
  {
   "cell_type": "markdown",
   "metadata": {},
   "source": [
    "#### Process Weather Data"
   ]
  },
  {
   "cell_type": "code",
   "execution_count": 339,
   "metadata": {},
   "outputs": [],
   "source": [
    "#Select street nearest to me and lets only take temperature\n",
    "df_weather = df_weather[(df_weather['Standort']=='Zch_Schimmelstrasse') & (df_weather['Einheit']=='°C')]\n",
    "#Only Take relevant columns and rename\n",
    "df_weather = df_weather.loc[:,['Datum','Wert']]\n",
    "df_weather = df_weather.rename(columns={'Datum':'date','Wert':'temp'})"
   ]
  },
  {
   "cell_type": "code",
   "execution_count": 340,
   "metadata": {},
   "outputs": [],
   "source": [
    "#The relevant temperature for sleep should only be the temperature in the nighttime, we will take the average temperature from midnight till 7am, for this we need to create an hour column, then remove the hours we are not interested in, group by date and take the average\n",
    "df_weather['date'] = pd.to_datetime(df_weather['date'])\n",
    "df_weather['hour']= df_weather.loc[:,'date'].dt.hour\n",
    "df_weather['date'] = df_weather.loc[:,'date'].dt.date\n",
    "\n",
    "#Remove all hours that are not between 0 and 8 (inclusive)\n",
    "df_weather = df_weather[(df_weather['hour']>=0)&(df_weather['hour']<=8)]\n",
    "\n",
    "\n",
    "#Group and take average\n",
    "df_weather = df_weather.loc[:,df_weather.columns != 'hour']\n",
    "df_weather = df_weather.groupby('date').mean()"
   ]
  },
  {
   "cell_type": "code",
   "execution_count": 341,
   "metadata": {},
   "outputs": [
    {
     "data": {
      "text/html": [
       "<div>\n",
       "<style scoped>\n",
       "    .dataframe tbody tr th:only-of-type {\n",
       "        vertical-align: middle;\n",
       "    }\n",
       "\n",
       "    .dataframe tbody tr th {\n",
       "        vertical-align: top;\n",
       "    }\n",
       "\n",
       "    .dataframe thead th {\n",
       "        text-align: right;\n",
       "    }\n",
       "</style>\n",
       "<table border=\"1\" class=\"dataframe\">\n",
       "  <thead>\n",
       "    <tr style=\"text-align: right;\">\n",
       "      <th></th>\n",
       "      <th>date</th>\n",
       "      <th>temp</th>\n",
       "    </tr>\n",
       "  </thead>\n",
       "  <tbody>\n",
       "    <tr>\n",
       "      <th>0</th>\n",
       "      <td>2023-01-01</td>\n",
       "      <td>13.53</td>\n",
       "    </tr>\n",
       "    <tr>\n",
       "      <th>1</th>\n",
       "      <td>2023-01-02</td>\n",
       "      <td>7.19</td>\n",
       "    </tr>\n",
       "    <tr>\n",
       "      <th>2</th>\n",
       "      <td>2023-01-03</td>\n",
       "      <td>8.19</td>\n",
       "    </tr>\n",
       "    <tr>\n",
       "      <th>3</th>\n",
       "      <td>2023-01-04</td>\n",
       "      <td>5.90</td>\n",
       "    </tr>\n",
       "    <tr>\n",
       "      <th>4</th>\n",
       "      <td>2023-01-05</td>\n",
       "      <td>10.60</td>\n",
       "    </tr>\n",
       "    <tr>\n",
       "      <th>...</th>\n",
       "      <td>...</td>\n",
       "      <td>...</td>\n",
       "    </tr>\n",
       "    <tr>\n",
       "      <th>297</th>\n",
       "      <td>2023-10-25</td>\n",
       "      <td>10.54</td>\n",
       "    </tr>\n",
       "    <tr>\n",
       "      <th>298</th>\n",
       "      <td>2023-10-26</td>\n",
       "      <td>12.49</td>\n",
       "    </tr>\n",
       "    <tr>\n",
       "      <th>299</th>\n",
       "      <td>2023-10-27</td>\n",
       "      <td>11.05</td>\n",
       "    </tr>\n",
       "    <tr>\n",
       "      <th>300</th>\n",
       "      <td>2023-10-28</td>\n",
       "      <td>10.40</td>\n",
       "    </tr>\n",
       "    <tr>\n",
       "      <th>301</th>\n",
       "      <td>2023-10-29</td>\n",
       "      <td>9.37</td>\n",
       "    </tr>\n",
       "  </tbody>\n",
       "</table>\n",
       "<p>302 rows × 2 columns</p>\n",
       "</div>"
      ],
      "text/plain": [
       "           date   temp\n",
       "0    2023-01-01  13.53\n",
       "1    2023-01-02   7.19\n",
       "2    2023-01-03   8.19\n",
       "3    2023-01-04   5.90\n",
       "4    2023-01-05  10.60\n",
       "..          ...    ...\n",
       "297  2023-10-25  10.54\n",
       "298  2023-10-26  12.49\n",
       "299  2023-10-27  11.05\n",
       "300  2023-10-28  10.40\n",
       "301  2023-10-29   9.37\n",
       "\n",
       "[302 rows x 2 columns]"
      ]
     },
     "execution_count": 341,
     "metadata": {},
     "output_type": "execute_result"
    }
   ],
   "source": [
    "df_weather.reset_index(drop=False, inplace = True)\n",
    "df_weather.temp = df_weather.temp.round(2)\n",
    "df_weather"
   ]
  },
  {
   "cell_type": "code",
   "execution_count": 342,
   "metadata": {},
   "outputs": [
    {
     "data": {
      "text/plain": [
       "date    0\n",
       "temp    7\n",
       "dtype: int64"
      ]
     },
     "execution_count": 342,
     "metadata": {},
     "output_type": "execute_result"
    }
   ],
   "source": [
    "#Check for nas\n",
    "df_weather.isna().sum()"
   ]
  },
  {
   "cell_type": "code",
   "execution_count": 343,
   "metadata": {},
   "outputs": [],
   "source": [
    "#Fill nas with previous value\n",
    "df_weather['temp'] = df_weather['temp'].ffill()"
   ]
  },
  {
   "cell_type": "code",
   "execution_count": 344,
   "metadata": {},
   "outputs": [],
   "source": [
    "df_weather['date'] = pd.to_datetime(df_weather['date'])"
   ]
  },
  {
   "cell_type": "markdown",
   "metadata": {},
   "source": [
    "#### Process Sleep Stats"
   ]
  },
  {
   "cell_type": "code",
   "execution_count": 345,
   "metadata": {},
   "outputs": [],
   "source": [
    "df_sleep_stats = df_sleep_stats.loc[:, ['bis', 'leicht (s)', 'tief (s)', 'rem (s)', 'wach (s)',\n",
    "       'Aufwachen', 'Duration to sleep (s)', 'Average heart rate']]"
   ]
  },
  {
   "cell_type": "code",
   "execution_count": 346,
   "metadata": {},
   "outputs": [],
   "source": [
    "df_sleep_stats.rename(columns= {'bis':'date', 'leicht (s)': 'lightsleep_sec', 'tief (s)' : 'deepsleep_sec', 'rem (s)':'remsleep_sec', 'wach (s)':'awake_sec',\n",
    "       'Aufwachen':'interruptions', 'Duration to sleep (s)':'durationtosleep_sec', 'Average heart rate':'avg_hr'}, inplace = True)"
   ]
  },
  {
   "cell_type": "code",
   "execution_count": 347,
   "metadata": {},
   "outputs": [],
   "source": [
    "df_sleep_stats['durationinbed_sec'] = df_sleep_stats['deepsleep_sec'] + df_sleep_stats['remsleep_sec'] + df_sleep_stats['lightsleep_sec'] + df_sleep_stats['awake_sec']"
   ]
  },
  {
   "cell_type": "code",
   "execution_count": 348,
   "metadata": {},
   "outputs": [],
   "source": [
    "df_sleep_stats['date'] = [date[:10] for date in df_sleep_stats['date'].values]\n",
    "df_sleep_stats['date'] = pd.to_datetime(df_sleep_stats['date'])"
   ]
  },
  {
   "cell_type": "code",
   "execution_count": 349,
   "metadata": {},
   "outputs": [
    {
     "name": "stdout",
     "output_type": "stream",
     "text": [
      "<class 'pandas.core.frame.DataFrame'>\n",
      "RangeIndex: 238 entries, 0 to 237\n",
      "Data columns (total 9 columns):\n",
      " #   Column               Non-Null Count  Dtype         \n",
      "---  ------               --------------  -----         \n",
      " 0   date                 238 non-null    datetime64[ns]\n",
      " 1   lightsleep_sec       238 non-null    int64         \n",
      " 2   deepsleep_sec        238 non-null    int64         \n",
      " 3   remsleep_sec         238 non-null    int64         \n",
      " 4   awake_sec            238 non-null    int64         \n",
      " 5   interruptions        238 non-null    int64         \n",
      " 6   durationtosleep_sec  238 non-null    int64         \n",
      " 7   avg_hr               238 non-null    int64         \n",
      " 8   durationinbed_sec    238 non-null    int64         \n",
      "dtypes: datetime64[ns](1), int64(8)\n",
      "memory usage: 16.9 KB\n"
     ]
    }
   ],
   "source": [
    "#Check if there are nas and check types\n",
    "df_sleep_stats.info()"
   ]
  },
  {
   "cell_type": "markdown",
   "metadata": {},
   "source": [
    "#### Process Seasonality Data"
   ]
  },
  {
   "cell_type": "code",
   "execution_count": 350,
   "metadata": {},
   "outputs": [],
   "source": [
    "df_seasonality['date'] = daterange\n",
    "df_seasonality['day'] = df_seasonality['date'].dt.day_name()\n",
    "df_seasonality['month'] = df_seasonality['date'].dt.month\n",
    "season = []\n",
    "for month in df_seasonality['month'].values:\n",
    "    if month in [3,4,5]:\n",
    "        season.append('spring')\n",
    "    elif month in [2,1,12]:\n",
    "        season.append('winter')\n",
    "    elif month in [6,7,8]:\n",
    "        season.append('summer')\n",
    "    else:\n",
    "        season.append('autumn')\n",
    "\n",
    "df_seasonality['season'] = season\n",
    "\n",
    "df_seasonality = df_seasonality.loc[:,df_seasonality.columns!='month']\n"
   ]
  },
  {
   "cell_type": "code",
   "execution_count": 351,
   "metadata": {},
   "outputs": [
    {
     "data": {
      "text/html": [
       "<div>\n",
       "<style scoped>\n",
       "    .dataframe tbody tr th:only-of-type {\n",
       "        vertical-align: middle;\n",
       "    }\n",
       "\n",
       "    .dataframe tbody tr th {\n",
       "        vertical-align: top;\n",
       "    }\n",
       "\n",
       "    .dataframe thead th {\n",
       "        text-align: right;\n",
       "    }\n",
       "</style>\n",
       "<table border=\"1\" class=\"dataframe\">\n",
       "  <thead>\n",
       "    <tr style=\"text-align: right;\">\n",
       "      <th></th>\n",
       "      <th>date</th>\n",
       "      <th>day</th>\n",
       "      <th>season</th>\n",
       "    </tr>\n",
       "  </thead>\n",
       "  <tbody>\n",
       "    <tr>\n",
       "      <th>0</th>\n",
       "      <td>2023-02-13</td>\n",
       "      <td>Monday</td>\n",
       "      <td>winter</td>\n",
       "    </tr>\n",
       "    <tr>\n",
       "      <th>1</th>\n",
       "      <td>2023-02-14</td>\n",
       "      <td>Tuesday</td>\n",
       "      <td>winter</td>\n",
       "    </tr>\n",
       "    <tr>\n",
       "      <th>2</th>\n",
       "      <td>2023-02-15</td>\n",
       "      <td>Wednesday</td>\n",
       "      <td>winter</td>\n",
       "    </tr>\n",
       "    <tr>\n",
       "      <th>3</th>\n",
       "      <td>2023-02-16</td>\n",
       "      <td>Thursday</td>\n",
       "      <td>winter</td>\n",
       "    </tr>\n",
       "    <tr>\n",
       "      <th>4</th>\n",
       "      <td>2023-02-17</td>\n",
       "      <td>Friday</td>\n",
       "      <td>winter</td>\n",
       "    </tr>\n",
       "    <tr>\n",
       "      <th>...</th>\n",
       "      <td>...</td>\n",
       "      <td>...</td>\n",
       "      <td>...</td>\n",
       "    </tr>\n",
       "    <tr>\n",
       "      <th>251</th>\n",
       "      <td>2023-10-22</td>\n",
       "      <td>Sunday</td>\n",
       "      <td>autumn</td>\n",
       "    </tr>\n",
       "    <tr>\n",
       "      <th>252</th>\n",
       "      <td>2023-10-23</td>\n",
       "      <td>Monday</td>\n",
       "      <td>autumn</td>\n",
       "    </tr>\n",
       "    <tr>\n",
       "      <th>253</th>\n",
       "      <td>2023-10-24</td>\n",
       "      <td>Tuesday</td>\n",
       "      <td>autumn</td>\n",
       "    </tr>\n",
       "    <tr>\n",
       "      <th>254</th>\n",
       "      <td>2023-10-25</td>\n",
       "      <td>Wednesday</td>\n",
       "      <td>autumn</td>\n",
       "    </tr>\n",
       "    <tr>\n",
       "      <th>255</th>\n",
       "      <td>2023-10-26</td>\n",
       "      <td>Thursday</td>\n",
       "      <td>autumn</td>\n",
       "    </tr>\n",
       "  </tbody>\n",
       "</table>\n",
       "<p>256 rows × 3 columns</p>\n",
       "</div>"
      ],
      "text/plain": [
       "          date        day  season\n",
       "0   2023-02-13     Monday  winter\n",
       "1   2023-02-14    Tuesday  winter\n",
       "2   2023-02-15  Wednesday  winter\n",
       "3   2023-02-16   Thursday  winter\n",
       "4   2023-02-17     Friday  winter\n",
       "..         ...        ...     ...\n",
       "251 2023-10-22     Sunday  autumn\n",
       "252 2023-10-23     Monday  autumn\n",
       "253 2023-10-24    Tuesday  autumn\n",
       "254 2023-10-25  Wednesday  autumn\n",
       "255 2023-10-26   Thursday  autumn\n",
       "\n",
       "[256 rows x 3 columns]"
      ]
     },
     "execution_count": 351,
     "metadata": {},
     "output_type": "execute_result"
    }
   ],
   "source": [
    "df_seasonality"
   ]
  },
  {
   "cell_type": "markdown",
   "metadata": {},
   "source": [
    "#### Process Sleepscore"
   ]
  },
  {
   "cell_type": "code",
   "execution_count": 352,
   "metadata": {},
   "outputs": [
    {
     "name": "stdout",
     "output_type": "stream",
     "text": [
      "<class 'pandas.core.frame.DataFrame'>\n",
      "RangeIndex: 257 entries, 0 to 256\n",
      "Data columns (total 2 columns):\n",
      " #   Column      Non-Null Count  Dtype         \n",
      "---  ------      --------------  -----         \n",
      " 0   date        257 non-null    datetime64[ns]\n",
      " 1   sleepscore  211 non-null    float64       \n",
      "dtypes: datetime64[ns](1), float64(1)\n",
      "memory usage: 4.1 KB\n"
     ]
    }
   ],
   "source": [
    "df_sleepscore.info()"
   ]
  },
  {
   "cell_type": "code",
   "execution_count": 353,
   "metadata": {},
   "outputs": [],
   "source": [
    "#46 days without sleepscore\n",
    "df_sleepscore[df_sleepscore['sleepscore'].isna()]\n",
    "# For simplicity reasons we will put the mean when data is missing\n",
    "mean = df_sleepscore[df_sleepscore['sleepscore'].isna() == False].sleepscore.mean()\n",
    "df_sleepscore= df_sleepscore.fillna(mean)"
   ]
  },
  {
   "cell_type": "markdown",
   "metadata": {},
   "source": [
    "#### Join all dataframes"
   ]
  },
  {
   "cell_type": "code",
   "execution_count": 354,
   "metadata": {},
   "outputs": [
    {
     "name": "stdout",
     "output_type": "stream",
     "text": [
      "date      datetime64[us]\n",
      "day               object\n",
      "season            object\n",
      "dtype: object\n",
      "date               datetime64[ns]\n",
      "weight                    float64\n",
      "bmi                       float64\n",
      "bodyfat_perc              float64\n",
      "musclemass_perc           float64\n",
      "dtype: object\n",
      "date                   datetime64[ns]\n",
      "lightsleep_sec                  int64\n",
      "deepsleep_sec                   int64\n",
      "remsleep_sec                    int64\n",
      "awake_sec                       int64\n",
      "interruptions                   int64\n",
      "durationtosleep_sec             int64\n",
      "avg_hr                          int64\n",
      "durationinbed_sec               int64\n",
      "dtype: object\n",
      "date    datetime64[ns]\n",
      "temp           float64\n",
      "dtype: object\n",
      "date          datetime64[ns]\n",
      "sleepscore           float64\n",
      "dtype: object\n"
     ]
    }
   ],
   "source": [
    "print(df_seasonality.dtypes)\n",
    "print(df_weight.dtypes)\n",
    "print(df_sleep_stats.dtypes)\n",
    "print(df_weather.dtypes)\n",
    "print(df_sleepscore.dtypes)"
   ]
  },
  {
   "cell_type": "code",
   "execution_count": 355,
   "metadata": {},
   "outputs": [],
   "source": [
    "df = df_seasonality.merge(df_weight, how='left').merge(df_sleep_stats, how = 'left').merge(df_weather, how = 'left').merge(df_sleepscore, how = 'left')"
   ]
  },
  {
   "cell_type": "code",
   "execution_count": 356,
   "metadata": {},
   "outputs": [
    {
     "data": {
      "text/plain": [
       "date                     0\n",
       "day                      0\n",
       "season                   0\n",
       "weight                 126\n",
       "bmi                    126\n",
       "bodyfat_perc           126\n",
       "musclemass_perc        126\n",
       "lightsleep_sec          46\n",
       "deepsleep_sec           46\n",
       "remsleep_sec            46\n",
       "awake_sec               46\n",
       "interruptions           46\n",
       "durationtosleep_sec     46\n",
       "avg_hr                  46\n",
       "durationinbed_sec       46\n",
       "temp                     0\n",
       "sleepscore               0\n",
       "dtype: int64"
      ]
     },
     "execution_count": 356,
     "metadata": {},
     "output_type": "execute_result"
    }
   ],
   "source": [
    "df.isna().sum()"
   ]
  },
  {
   "cell_type": "code",
   "execution_count": 357,
   "metadata": {},
   "outputs": [],
   "source": [
    "#For all the weight measruments missing we will take previous value\n",
    "\n",
    "df['weight'] = df['weight'].ffill()\n",
    "df['bmi'] =  df['bmi'].ffill()\n",
    "df['bodyfat_perc'] = df['bodyfat_perc'].ffill()\n",
    "df['musclemass_perc'] = df['musclemass_perc'].ffill()\n",
    "\n",
    "#for all the sleep tracking values missing we will take mean\n",
    "\n",
    "df['lightsleep_sec'] = df['lightsleep_sec'].fillna(df['lightsleep_sec'].mean())\n",
    "df['deepsleep_sec'] = df['deepsleep_sec'].fillna(df['deepsleep_sec'].mean())\n",
    "df['remsleep_sec'] = df['remsleep_sec'].fillna(df['remsleep_sec'].mean())\n",
    "df['awake_sec'] = df['awake_sec'].fillna(df['awake_sec'].mean())\n",
    "df['interruptions'] = df['interruptions'].fillna(df['interruptions'].mean())\n",
    "df['durationtosleep_sec'] = df['durationtosleep_sec'].fillna(df['durationtosleep_sec'].mean())\n",
    "df['durationinbed_sec'] = df['durationinbed_sec'].fillna(df['durationinbed_sec'].mean())\n",
    "df['avg_hr'] = df['avg_hr'].fillna(df['avg_hr'].mean())\n",
    "\n"
   ]
  },
  {
   "cell_type": "markdown",
   "metadata": {},
   "source": []
  },
  {
   "cell_type": "code",
   "execution_count": 358,
   "metadata": {},
   "outputs": [],
   "source": [
    "df['sleepquality'] = (df['sleepscore'] >= 85).astype(int)"
   ]
  },
  {
   "cell_type": "code",
   "execution_count": 359,
   "metadata": {},
   "outputs": [],
   "source": [
    "df = df.loc[:,df.columns!='sleepscore']\n",
    "df = df.loc[:,df.columns!='date']"
   ]
  },
  {
   "cell_type": "code",
   "execution_count": 360,
   "metadata": {},
   "outputs": [
    {
     "data": {
      "text/html": [
       "<div>\n",
       "<style scoped>\n",
       "    .dataframe tbody tr th:only-of-type {\n",
       "        vertical-align: middle;\n",
       "    }\n",
       "\n",
       "    .dataframe tbody tr th {\n",
       "        vertical-align: top;\n",
       "    }\n",
       "\n",
       "    .dataframe thead th {\n",
       "        text-align: right;\n",
       "    }\n",
       "</style>\n",
       "<table border=\"1\" class=\"dataframe\">\n",
       "  <thead>\n",
       "    <tr style=\"text-align: right;\">\n",
       "      <th></th>\n",
       "      <th>day</th>\n",
       "      <th>season</th>\n",
       "      <th>weight</th>\n",
       "      <th>bmi</th>\n",
       "      <th>bodyfat_perc</th>\n",
       "      <th>musclemass_perc</th>\n",
       "      <th>lightsleep_sec</th>\n",
       "      <th>deepsleep_sec</th>\n",
       "      <th>remsleep_sec</th>\n",
       "      <th>awake_sec</th>\n",
       "      <th>interruptions</th>\n",
       "      <th>durationtosleep_sec</th>\n",
       "      <th>avg_hr</th>\n",
       "      <th>durationinbed_sec</th>\n",
       "      <th>temp</th>\n",
       "      <th>sleepquality</th>\n",
       "    </tr>\n",
       "  </thead>\n",
       "  <tbody>\n",
       "    <tr>\n",
       "      <th>0</th>\n",
       "      <td>Monday</td>\n",
       "      <td>winter</td>\n",
       "      <td>80.0</td>\n",
       "      <td>25.0</td>\n",
       "      <td>22.7</td>\n",
       "      <td>33.8</td>\n",
       "      <td>15360.0</td>\n",
       "      <td>9900.0</td>\n",
       "      <td>9840.0</td>\n",
       "      <td>1500.0</td>\n",
       "      <td>2.0</td>\n",
       "      <td>1440.0</td>\n",
       "      <td>64.0</td>\n",
       "      <td>36600.0</td>\n",
       "      <td>2.88</td>\n",
       "      <td>1</td>\n",
       "    </tr>\n",
       "    <tr>\n",
       "      <th>1</th>\n",
       "      <td>Tuesday</td>\n",
       "      <td>winter</td>\n",
       "      <td>80.0</td>\n",
       "      <td>25.0</td>\n",
       "      <td>22.7</td>\n",
       "      <td>33.8</td>\n",
       "      <td>23040.0</td>\n",
       "      <td>4200.0</td>\n",
       "      <td>5940.0</td>\n",
       "      <td>3300.0</td>\n",
       "      <td>4.0</td>\n",
       "      <td>1020.0</td>\n",
       "      <td>62.0</td>\n",
       "      <td>36480.0</td>\n",
       "      <td>0.83</td>\n",
       "      <td>1</td>\n",
       "    </tr>\n",
       "    <tr>\n",
       "      <th>2</th>\n",
       "      <td>Wednesday</td>\n",
       "      <td>winter</td>\n",
       "      <td>80.6</td>\n",
       "      <td>25.2</td>\n",
       "      <td>22.4</td>\n",
       "      <td>34.0</td>\n",
       "      <td>14220.0</td>\n",
       "      <td>4380.0</td>\n",
       "      <td>7680.0</td>\n",
       "      <td>2160.0</td>\n",
       "      <td>0.0</td>\n",
       "      <td>2160.0</td>\n",
       "      <td>69.0</td>\n",
       "      <td>28440.0</td>\n",
       "      <td>-0.42</td>\n",
       "      <td>1</td>\n",
       "    </tr>\n",
       "    <tr>\n",
       "      <th>3</th>\n",
       "      <td>Thursday</td>\n",
       "      <td>winter</td>\n",
       "      <td>80.6</td>\n",
       "      <td>25.2</td>\n",
       "      <td>22.8</td>\n",
       "      <td>34.0</td>\n",
       "      <td>14340.0</td>\n",
       "      <td>4260.0</td>\n",
       "      <td>8520.0</td>\n",
       "      <td>660.0</td>\n",
       "      <td>0.0</td>\n",
       "      <td>660.0</td>\n",
       "      <td>69.0</td>\n",
       "      <td>27780.0</td>\n",
       "      <td>1.54</td>\n",
       "      <td>1</td>\n",
       "    </tr>\n",
       "    <tr>\n",
       "      <th>4</th>\n",
       "      <td>Friday</td>\n",
       "      <td>winter</td>\n",
       "      <td>80.4</td>\n",
       "      <td>25.1</td>\n",
       "      <td>23.0</td>\n",
       "      <td>33.9</td>\n",
       "      <td>19380.0</td>\n",
       "      <td>3660.0</td>\n",
       "      <td>4920.0</td>\n",
       "      <td>1200.0</td>\n",
       "      <td>0.0</td>\n",
       "      <td>1200.0</td>\n",
       "      <td>68.0</td>\n",
       "      <td>29160.0</td>\n",
       "      <td>8.18</td>\n",
       "      <td>1</td>\n",
       "    </tr>\n",
       "    <tr>\n",
       "      <th>...</th>\n",
       "      <td>...</td>\n",
       "      <td>...</td>\n",
       "      <td>...</td>\n",
       "      <td>...</td>\n",
       "      <td>...</td>\n",
       "      <td>...</td>\n",
       "      <td>...</td>\n",
       "      <td>...</td>\n",
       "      <td>...</td>\n",
       "      <td>...</td>\n",
       "      <td>...</td>\n",
       "      <td>...</td>\n",
       "      <td>...</td>\n",
       "      <td>...</td>\n",
       "      <td>...</td>\n",
       "      <td>...</td>\n",
       "    </tr>\n",
       "    <tr>\n",
       "      <th>262</th>\n",
       "      <td>Sunday</td>\n",
       "      <td>autumn</td>\n",
       "      <td>79.5</td>\n",
       "      <td>24.8</td>\n",
       "      <td>22.3</td>\n",
       "      <td>33.6</td>\n",
       "      <td>16260.0</td>\n",
       "      <td>3480.0</td>\n",
       "      <td>5520.0</td>\n",
       "      <td>2700.0</td>\n",
       "      <td>0.0</td>\n",
       "      <td>2700.0</td>\n",
       "      <td>67.0</td>\n",
       "      <td>27960.0</td>\n",
       "      <td>10.31</td>\n",
       "      <td>0</td>\n",
       "    </tr>\n",
       "    <tr>\n",
       "      <th>263</th>\n",
       "      <td>Monday</td>\n",
       "      <td>autumn</td>\n",
       "      <td>79.5</td>\n",
       "      <td>24.8</td>\n",
       "      <td>22.3</td>\n",
       "      <td>33.6</td>\n",
       "      <td>22080.0</td>\n",
       "      <td>4860.0</td>\n",
       "      <td>3120.0</td>\n",
       "      <td>2220.0</td>\n",
       "      <td>1.0</td>\n",
       "      <td>2160.0</td>\n",
       "      <td>63.0</td>\n",
       "      <td>32280.0</td>\n",
       "      <td>10.15</td>\n",
       "      <td>0</td>\n",
       "    </tr>\n",
       "    <tr>\n",
       "      <th>264</th>\n",
       "      <td>Tuesday</td>\n",
       "      <td>autumn</td>\n",
       "      <td>79.6</td>\n",
       "      <td>24.8</td>\n",
       "      <td>22.0</td>\n",
       "      <td>33.7</td>\n",
       "      <td>16320.0</td>\n",
       "      <td>4320.0</td>\n",
       "      <td>4140.0</td>\n",
       "      <td>1440.0</td>\n",
       "      <td>1.0</td>\n",
       "      <td>1020.0</td>\n",
       "      <td>64.0</td>\n",
       "      <td>26220.0</td>\n",
       "      <td>11.70</td>\n",
       "      <td>0</td>\n",
       "    </tr>\n",
       "    <tr>\n",
       "      <th>265</th>\n",
       "      <td>Wednesday</td>\n",
       "      <td>autumn</td>\n",
       "      <td>79.6</td>\n",
       "      <td>24.8</td>\n",
       "      <td>22.0</td>\n",
       "      <td>33.7</td>\n",
       "      <td>14100.0</td>\n",
       "      <td>5460.0</td>\n",
       "      <td>5460.0</td>\n",
       "      <td>1920.0</td>\n",
       "      <td>0.0</td>\n",
       "      <td>1920.0</td>\n",
       "      <td>67.0</td>\n",
       "      <td>26940.0</td>\n",
       "      <td>10.54</td>\n",
       "      <td>0</td>\n",
       "    </tr>\n",
       "    <tr>\n",
       "      <th>266</th>\n",
       "      <td>Thursday</td>\n",
       "      <td>autumn</td>\n",
       "      <td>79.6</td>\n",
       "      <td>24.8</td>\n",
       "      <td>22.0</td>\n",
       "      <td>33.7</td>\n",
       "      <td>17880.0</td>\n",
       "      <td>4260.0</td>\n",
       "      <td>9540.0</td>\n",
       "      <td>8640.0</td>\n",
       "      <td>4.0</td>\n",
       "      <td>6180.0</td>\n",
       "      <td>62.0</td>\n",
       "      <td>40320.0</td>\n",
       "      <td>12.49</td>\n",
       "      <td>0</td>\n",
       "    </tr>\n",
       "  </tbody>\n",
       "</table>\n",
       "<p>267 rows × 16 columns</p>\n",
       "</div>"
      ],
      "text/plain": [
       "           day  season  weight   bmi  bodyfat_perc  musclemass_perc  \\\n",
       "0       Monday  winter    80.0  25.0          22.7             33.8   \n",
       "1      Tuesday  winter    80.0  25.0          22.7             33.8   \n",
       "2    Wednesday  winter    80.6  25.2          22.4             34.0   \n",
       "3     Thursday  winter    80.6  25.2          22.8             34.0   \n",
       "4       Friday  winter    80.4  25.1          23.0             33.9   \n",
       "..         ...     ...     ...   ...           ...              ...   \n",
       "262     Sunday  autumn    79.5  24.8          22.3             33.6   \n",
       "263     Monday  autumn    79.5  24.8          22.3             33.6   \n",
       "264    Tuesday  autumn    79.6  24.8          22.0             33.7   \n",
       "265  Wednesday  autumn    79.6  24.8          22.0             33.7   \n",
       "266   Thursday  autumn    79.6  24.8          22.0             33.7   \n",
       "\n",
       "     lightsleep_sec  deepsleep_sec  remsleep_sec  awake_sec  interruptions  \\\n",
       "0           15360.0         9900.0        9840.0     1500.0            2.0   \n",
       "1           23040.0         4200.0        5940.0     3300.0            4.0   \n",
       "2           14220.0         4380.0        7680.0     2160.0            0.0   \n",
       "3           14340.0         4260.0        8520.0      660.0            0.0   \n",
       "4           19380.0         3660.0        4920.0     1200.0            0.0   \n",
       "..              ...            ...           ...        ...            ...   \n",
       "262         16260.0         3480.0        5520.0     2700.0            0.0   \n",
       "263         22080.0         4860.0        3120.0     2220.0            1.0   \n",
       "264         16320.0         4320.0        4140.0     1440.0            1.0   \n",
       "265         14100.0         5460.0        5460.0     1920.0            0.0   \n",
       "266         17880.0         4260.0        9540.0     8640.0            4.0   \n",
       "\n",
       "     durationtosleep_sec  avg_hr  durationinbed_sec   temp  sleepquality  \n",
       "0                 1440.0    64.0            36600.0   2.88             1  \n",
       "1                 1020.0    62.0            36480.0   0.83             1  \n",
       "2                 2160.0    69.0            28440.0  -0.42             1  \n",
       "3                  660.0    69.0            27780.0   1.54             1  \n",
       "4                 1200.0    68.0            29160.0   8.18             1  \n",
       "..                   ...     ...                ...    ...           ...  \n",
       "262               2700.0    67.0            27960.0  10.31             0  \n",
       "263               2160.0    63.0            32280.0  10.15             0  \n",
       "264               1020.0    64.0            26220.0  11.70             0  \n",
       "265               1920.0    67.0            26940.0  10.54             0  \n",
       "266               6180.0    62.0            40320.0  12.49             0  \n",
       "\n",
       "[267 rows x 16 columns]"
      ]
     },
     "execution_count": 360,
     "metadata": {},
     "output_type": "execute_result"
    }
   ],
   "source": [
    "df\n"
   ]
  },
  {
   "cell_type": "markdown",
   "metadata": {},
   "source": [
    "## Exploratory Data Analysis"
   ]
  },
  {
   "cell_type": "code",
   "execution_count": 361,
   "metadata": {},
   "outputs": [
    {
     "data": {
      "text/plain": [
       "sleepquality\n",
       "0    148\n",
       "1    119\n",
       "Name: count, dtype: int64"
      ]
     },
     "execution_count": 361,
     "metadata": {},
     "output_type": "execute_result"
    }
   ],
   "source": [
    "#Check distribution of sleepquality\n",
    "df.sleepquality.value_counts()"
   ]
  },
  {
   "cell_type": "code",
   "execution_count": 362,
   "metadata": {},
   "outputs": [
    {
     "data": {
      "text/plain": [
       "day                     object\n",
       "season                  object\n",
       "weight                 float64\n",
       "bmi                    float64\n",
       "bodyfat_perc           float64\n",
       "musclemass_perc        float64\n",
       "lightsleep_sec         float64\n",
       "deepsleep_sec          float64\n",
       "remsleep_sec           float64\n",
       "awake_sec              float64\n",
       "interruptions          float64\n",
       "durationtosleep_sec    float64\n",
       "avg_hr                 float64\n",
       "durationinbed_sec      float64\n",
       "temp                   float64\n",
       "sleepquality             int64\n",
       "dtype: object"
      ]
     },
     "execution_count": 362,
     "metadata": {},
     "output_type": "execute_result"
    }
   ],
   "source": [
    "df.dtypes"
   ]
  },
  {
   "cell_type": "code",
   "execution_count": 363,
   "metadata": {},
   "outputs": [],
   "source": [
    "#categorical\n",
    "cat_vars = list(df.select_dtypes(include=['object']).columns.values)\n",
    "\n",
    "#numerical\n",
    "num_vars = list(df.select_dtypes(exclude=['object']).columns.values)"
   ]
  },
  {
   "cell_type": "markdown",
   "metadata": {},
   "source": [
    "#### EDA Categorical Variables"
   ]
  },
  {
   "cell_type": "code",
   "execution_count": 364,
   "metadata": {},
   "outputs": [
    {
     "name": "stdout",
     "output_type": "stream",
     "text": [
      "day\n",
      "Wednesday    40\n",
      "Monday       38\n",
      "Tuesday      38\n",
      "Thursday     38\n",
      "Friday       38\n",
      "Sunday       38\n",
      "Saturday     37\n",
      "Name: count, dtype: int64\n",
      "season\n",
      "summer    97\n",
      "spring    96\n",
      "autumn    57\n",
      "winter    17\n",
      "Name: count, dtype: int64\n"
     ]
    }
   ],
   "source": [
    "for cat in cat_vars:\n",
    "    print(df[cat].value_counts())"
   ]
  },
  {
   "cell_type": "markdown",
   "metadata": {},
   "source": [
    "The days are evenly distributed, in the season variable there are not that many entries for winter"
   ]
  },
  {
   "cell_type": "code",
   "execution_count": 365,
   "metadata": {},
   "outputs": [
    {
     "name": "stdout",
     "output_type": "stream",
     "text": [
      "0.44569288389513106\n"
     ]
    }
   ],
   "source": [
    "global_mean = df.sleepquality.mean()\n",
    "print(global_mean)"
   ]
  },
  {
   "cell_type": "code",
   "execution_count": 366,
   "metadata": {},
   "outputs": [
    {
     "data": {
      "text/html": [
       "<div>\n",
       "<style scoped>\n",
       "    .dataframe tbody tr th:only-of-type {\n",
       "        vertical-align: middle;\n",
       "    }\n",
       "\n",
       "    .dataframe tbody tr th {\n",
       "        vertical-align: top;\n",
       "    }\n",
       "\n",
       "    .dataframe thead th {\n",
       "        text-align: right;\n",
       "    }\n",
       "</style>\n",
       "<table border=\"1\" class=\"dataframe\">\n",
       "  <thead>\n",
       "    <tr style=\"text-align: right;\">\n",
       "      <th></th>\n",
       "      <th>day</th>\n",
       "      <th>sleepquality</th>\n",
       "      <th>diff</th>\n",
       "      <th>risk</th>\n",
       "    </tr>\n",
       "  </thead>\n",
       "  <tbody>\n",
       "    <tr>\n",
       "      <th>0</th>\n",
       "      <td>Friday</td>\n",
       "      <td>0.500000</td>\n",
       "      <td>0.054307</td>\n",
       "      <td>1.121849</td>\n",
       "    </tr>\n",
       "    <tr>\n",
       "      <th>1</th>\n",
       "      <td>Monday</td>\n",
       "      <td>0.500000</td>\n",
       "      <td>0.054307</td>\n",
       "      <td>1.121849</td>\n",
       "    </tr>\n",
       "    <tr>\n",
       "      <th>2</th>\n",
       "      <td>Saturday</td>\n",
       "      <td>0.270270</td>\n",
       "      <td>-0.175423</td>\n",
       "      <td>0.606405</td>\n",
       "    </tr>\n",
       "    <tr>\n",
       "      <th>3</th>\n",
       "      <td>Sunday</td>\n",
       "      <td>0.473684</td>\n",
       "      <td>0.027991</td>\n",
       "      <td>1.062804</td>\n",
       "    </tr>\n",
       "    <tr>\n",
       "      <th>4</th>\n",
       "      <td>Thursday</td>\n",
       "      <td>0.421053</td>\n",
       "      <td>-0.024640</td>\n",
       "      <td>0.944715</td>\n",
       "    </tr>\n",
       "    <tr>\n",
       "      <th>5</th>\n",
       "      <td>Tuesday</td>\n",
       "      <td>0.500000</td>\n",
       "      <td>0.054307</td>\n",
       "      <td>1.121849</td>\n",
       "    </tr>\n",
       "    <tr>\n",
       "      <th>6</th>\n",
       "      <td>Wednesday</td>\n",
       "      <td>0.450000</td>\n",
       "      <td>0.004307</td>\n",
       "      <td>1.009664</td>\n",
       "    </tr>\n",
       "  </tbody>\n",
       "</table>\n",
       "</div>"
      ],
      "text/plain": [
       "         day  sleepquality      diff      risk\n",
       "0     Friday      0.500000  0.054307  1.121849\n",
       "1     Monday      0.500000  0.054307  1.121849\n",
       "2   Saturday      0.270270 -0.175423  0.606405\n",
       "3     Sunday      0.473684  0.027991  1.062804\n",
       "4   Thursday      0.421053 -0.024640  0.944715\n",
       "5    Tuesday      0.500000  0.054307  1.121849\n",
       "6  Wednesday      0.450000  0.004307  1.009664"
      ]
     },
     "execution_count": 366,
     "metadata": {},
     "output_type": "execute_result"
    }
   ],
   "source": [
    "#Get average sleepquality for different days\n",
    "df_days = df.loc[:,['day','sleepquality']].groupby('day').mean().reset_index()\n",
    "df_days['diff'] = df_days['sleepquality'] - global_mean\n",
    "df_days['risk'] = df_days['sleepquality']/global_mean\n",
    "df_days"
   ]
  },
  {
   "cell_type": "markdown",
   "metadata": {},
   "source": [
    "Looks like I get the worst sleep on Saturdays"
   ]
  },
  {
   "cell_type": "code",
   "execution_count": 367,
   "metadata": {},
   "outputs": [
    {
     "data": {
      "text/html": [
       "<div>\n",
       "<style scoped>\n",
       "    .dataframe tbody tr th:only-of-type {\n",
       "        vertical-align: middle;\n",
       "    }\n",
       "\n",
       "    .dataframe tbody tr th {\n",
       "        vertical-align: top;\n",
       "    }\n",
       "\n",
       "    .dataframe thead th {\n",
       "        text-align: right;\n",
       "    }\n",
       "</style>\n",
       "<table border=\"1\" class=\"dataframe\">\n",
       "  <thead>\n",
       "    <tr style=\"text-align: right;\">\n",
       "      <th></th>\n",
       "      <th>sleepquality</th>\n",
       "      <th>diff</th>\n",
       "      <th>risk</th>\n",
       "    </tr>\n",
       "    <tr>\n",
       "      <th>season</th>\n",
       "      <th></th>\n",
       "      <th></th>\n",
       "      <th></th>\n",
       "    </tr>\n",
       "  </thead>\n",
       "  <tbody>\n",
       "    <tr>\n",
       "      <th>autumn</th>\n",
       "      <td>0.263158</td>\n",
       "      <td>-0.182535</td>\n",
       "      <td>0.590447</td>\n",
       "    </tr>\n",
       "    <tr>\n",
       "      <th>spring</th>\n",
       "      <td>0.510417</td>\n",
       "      <td>0.064724</td>\n",
       "      <td>1.145221</td>\n",
       "    </tr>\n",
       "    <tr>\n",
       "      <th>summer</th>\n",
       "      <td>0.422680</td>\n",
       "      <td>-0.023012</td>\n",
       "      <td>0.948367</td>\n",
       "    </tr>\n",
       "    <tr>\n",
       "      <th>winter</th>\n",
       "      <td>0.823529</td>\n",
       "      <td>0.377837</td>\n",
       "      <td>1.847751</td>\n",
       "    </tr>\n",
       "  </tbody>\n",
       "</table>\n",
       "</div>"
      ],
      "text/plain": [
       "        sleepquality      diff      risk\n",
       "season                                  \n",
       "autumn      0.263158 -0.182535  0.590447\n",
       "spring      0.510417  0.064724  1.145221\n",
       "summer      0.422680 -0.023012  0.948367\n",
       "winter      0.823529  0.377837  1.847751"
      ]
     },
     "execution_count": 367,
     "metadata": {},
     "output_type": "execute_result"
    }
   ],
   "source": [
    "#Get average sleepquality for different days\n",
    "df_seasons = df.loc[:,['season','sleepquality']].groupby('season').mean()\n",
    "df_seasons['diff'] = df_seasons['sleepquality'] - global_mean\n",
    "df_seasons['risk'] = df_seasons['sleepquality']/global_mean\n",
    "df_seasons"
   ]
  },
  {
   "cell_type": "markdown",
   "metadata": {},
   "source": [
    "Hard to compare winter to the others, because there are not many entries, spring is better than summer though"
   ]
  },
  {
   "cell_type": "code",
   "execution_count": 368,
   "metadata": {},
   "outputs": [
    {
     "data": {
      "text/html": [
       "<div>\n",
       "<style scoped>\n",
       "    .dataframe tbody tr th:only-of-type {\n",
       "        vertical-align: middle;\n",
       "    }\n",
       "\n",
       "    .dataframe tbody tr th {\n",
       "        vertical-align: top;\n",
       "    }\n",
       "\n",
       "    .dataframe thead th {\n",
       "        text-align: right;\n",
       "    }\n",
       "</style>\n",
       "<table border=\"1\" class=\"dataframe\">\n",
       "  <thead>\n",
       "    <tr style=\"text-align: right;\">\n",
       "      <th></th>\n",
       "      <th>MI</th>\n",
       "    </tr>\n",
       "  </thead>\n",
       "  <tbody>\n",
       "    <tr>\n",
       "      <th>season</th>\n",
       "      <td>0.037929</td>\n",
       "    </tr>\n",
       "    <tr>\n",
       "      <th>day</th>\n",
       "      <td>0.012010</td>\n",
       "    </tr>\n",
       "  </tbody>\n",
       "</table>\n",
       "</div>"
      ],
      "text/plain": [
       "              MI\n",
       "season  0.037929\n",
       "day     0.012010"
      ]
     },
     "metadata": {},
     "output_type": "display_data"
    }
   ],
   "source": [
    "from sklearn.metrics import mutual_info_score\n",
    "\n",
    "def calculate_mi(series):\n",
    "    return mutual_info_score(series, df.sleepquality)\n",
    "\n",
    "df_mi = df[cat_vars].apply(calculate_mi)\n",
    "df_mi = df_mi.sort_values(ascending=False).to_frame(name='MI')\n",
    "\n",
    "\n",
    "display(df_mi.head())"
   ]
  },
  {
   "cell_type": "markdown",
   "metadata": {},
   "source": [
    "#### EDA Numerical Variables"
   ]
  },
  {
   "cell_type": "code",
   "execution_count": 369,
   "metadata": {},
   "outputs": [
    {
     "data": {
      "text/html": [
       "<div>\n",
       "<style scoped>\n",
       "    .dataframe tbody tr th:only-of-type {\n",
       "        vertical-align: middle;\n",
       "    }\n",
       "\n",
       "    .dataframe tbody tr th {\n",
       "        vertical-align: top;\n",
       "    }\n",
       "\n",
       "    .dataframe thead th {\n",
       "        text-align: right;\n",
       "    }\n",
       "</style>\n",
       "<table border=\"1\" class=\"dataframe\">\n",
       "  <thead>\n",
       "    <tr style=\"text-align: right;\">\n",
       "      <th></th>\n",
       "      <th>weight</th>\n",
       "      <th>bmi</th>\n",
       "      <th>bodyfat_perc</th>\n",
       "      <th>musclemass_perc</th>\n",
       "      <th>lightsleep_sec</th>\n",
       "      <th>deepsleep_sec</th>\n",
       "      <th>remsleep_sec</th>\n",
       "      <th>awake_sec</th>\n",
       "      <th>interruptions</th>\n",
       "      <th>durationtosleep_sec</th>\n",
       "      <th>avg_hr</th>\n",
       "      <th>durationinbed_sec</th>\n",
       "      <th>temp</th>\n",
       "      <th>sleepquality</th>\n",
       "    </tr>\n",
       "  </thead>\n",
       "  <tbody>\n",
       "    <tr>\n",
       "      <th>count</th>\n",
       "      <td>267.0</td>\n",
       "      <td>267.0</td>\n",
       "      <td>267.0</td>\n",
       "      <td>267.0</td>\n",
       "      <td>267.0</td>\n",
       "      <td>267.0</td>\n",
       "      <td>267.0</td>\n",
       "      <td>267.0</td>\n",
       "      <td>267.0</td>\n",
       "      <td>267.0</td>\n",
       "      <td>267.0</td>\n",
       "      <td>267.0</td>\n",
       "      <td>267.0</td>\n",
       "      <td>267.0</td>\n",
       "    </tr>\n",
       "    <tr>\n",
       "      <th>mean</th>\n",
       "      <td>78.0</td>\n",
       "      <td>24.3</td>\n",
       "      <td>21.0</td>\n",
       "      <td>33.3</td>\n",
       "      <td>15423.5</td>\n",
       "      <td>5392.1</td>\n",
       "      <td>6004.3</td>\n",
       "      <td>2491.8</td>\n",
       "      <td>0.9</td>\n",
       "      <td>1958.3</td>\n",
       "      <td>60.9</td>\n",
       "      <td>29311.8</td>\n",
       "      <td>13.8</td>\n",
       "      <td>0.4</td>\n",
       "    </tr>\n",
       "    <tr>\n",
       "      <th>std</th>\n",
       "      <td>1.0</td>\n",
       "      <td>0.3</td>\n",
       "      <td>0.6</td>\n",
       "      <td>0.3</td>\n",
       "      <td>4074.9</td>\n",
       "      <td>1814.2</td>\n",
       "      <td>2241.8</td>\n",
       "      <td>1071.5</td>\n",
       "      <td>0.9</td>\n",
       "      <td>829.2</td>\n",
       "      <td>4.5</td>\n",
       "      <td>6389.9</td>\n",
       "      <td>6.1</td>\n",
       "      <td>0.5</td>\n",
       "    </tr>\n",
       "    <tr>\n",
       "      <th>min</th>\n",
       "      <td>75.8</td>\n",
       "      <td>23.7</td>\n",
       "      <td>18.9</td>\n",
       "      <td>32.8</td>\n",
       "      <td>0.0</td>\n",
       "      <td>0.0</td>\n",
       "      <td>0.0</td>\n",
       "      <td>480.0</td>\n",
       "      <td>0.0</td>\n",
       "      <td>420.0</td>\n",
       "      <td>50.0</td>\n",
       "      <td>780.0</td>\n",
       "      <td>-0.5</td>\n",
       "      <td>0.0</td>\n",
       "    </tr>\n",
       "    <tr>\n",
       "      <th>25%</th>\n",
       "      <td>77.2</td>\n",
       "      <td>24.1</td>\n",
       "      <td>20.6</td>\n",
       "      <td>33.1</td>\n",
       "      <td>14160.0</td>\n",
       "      <td>4560.0</td>\n",
       "      <td>4830.0</td>\n",
       "      <td>1860.0</td>\n",
       "      <td>0.0</td>\n",
       "      <td>1440.0</td>\n",
       "      <td>58.0</td>\n",
       "      <td>28650.0</td>\n",
       "      <td>9.5</td>\n",
       "      <td>0.0</td>\n",
       "    </tr>\n",
       "    <tr>\n",
       "      <th>50%</th>\n",
       "      <td>77.8</td>\n",
       "      <td>24.3</td>\n",
       "      <td>20.9</td>\n",
       "      <td>33.3</td>\n",
       "      <td>15423.5</td>\n",
       "      <td>5392.1</td>\n",
       "      <td>6004.3</td>\n",
       "      <td>2491.8</td>\n",
       "      <td>0.9</td>\n",
       "      <td>1958.3</td>\n",
       "      <td>60.9</td>\n",
       "      <td>29400.0</td>\n",
       "      <td>14.5</td>\n",
       "      <td>0.0</td>\n",
       "    </tr>\n",
       "    <tr>\n",
       "      <th>75%</th>\n",
       "      <td>78.6</td>\n",
       "      <td>24.5</td>\n",
       "      <td>21.4</td>\n",
       "      <td>33.5</td>\n",
       "      <td>17520.0</td>\n",
       "      <td>6420.0</td>\n",
       "      <td>7380.0</td>\n",
       "      <td>2820.0</td>\n",
       "      <td>1.0</td>\n",
       "      <td>2280.0</td>\n",
       "      <td>63.0</td>\n",
       "      <td>32130.0</td>\n",
       "      <td>18.6</td>\n",
       "      <td>1.0</td>\n",
       "    </tr>\n",
       "    <tr>\n",
       "      <th>max</th>\n",
       "      <td>81.0</td>\n",
       "      <td>25.3</td>\n",
       "      <td>23.0</td>\n",
       "      <td>34.1</td>\n",
       "      <td>27060.0</td>\n",
       "      <td>10740.0</td>\n",
       "      <td>11520.0</td>\n",
       "      <td>8640.0</td>\n",
       "      <td>6.0</td>\n",
       "      <td>6180.0</td>\n",
       "      <td>82.0</td>\n",
       "      <td>42420.0</td>\n",
       "      <td>25.7</td>\n",
       "      <td>1.0</td>\n",
       "    </tr>\n",
       "  </tbody>\n",
       "</table>\n",
       "</div>"
      ],
      "text/plain": [
       "       weight    bmi  bodyfat_perc  musclemass_perc  lightsleep_sec  \\\n",
       "count   267.0  267.0         267.0            267.0           267.0   \n",
       "mean     78.0   24.3          21.0             33.3         15423.5   \n",
       "std       1.0    0.3           0.6              0.3          4074.9   \n",
       "min      75.8   23.7          18.9             32.8             0.0   \n",
       "25%      77.2   24.1          20.6             33.1         14160.0   \n",
       "50%      77.8   24.3          20.9             33.3         15423.5   \n",
       "75%      78.6   24.5          21.4             33.5         17520.0   \n",
       "max      81.0   25.3          23.0             34.1         27060.0   \n",
       "\n",
       "       deepsleep_sec  remsleep_sec  awake_sec  interruptions  \\\n",
       "count          267.0         267.0      267.0          267.0   \n",
       "mean          5392.1        6004.3     2491.8            0.9   \n",
       "std           1814.2        2241.8     1071.5            0.9   \n",
       "min              0.0           0.0      480.0            0.0   \n",
       "25%           4560.0        4830.0     1860.0            0.0   \n",
       "50%           5392.1        6004.3     2491.8            0.9   \n",
       "75%           6420.0        7380.0     2820.0            1.0   \n",
       "max          10740.0       11520.0     8640.0            6.0   \n",
       "\n",
       "       durationtosleep_sec  avg_hr  durationinbed_sec   temp  sleepquality  \n",
       "count                267.0   267.0              267.0  267.0         267.0  \n",
       "mean                1958.3    60.9            29311.8   13.8           0.4  \n",
       "std                  829.2     4.5             6389.9    6.1           0.5  \n",
       "min                  420.0    50.0              780.0   -0.5           0.0  \n",
       "25%                 1440.0    58.0            28650.0    9.5           0.0  \n",
       "50%                 1958.3    60.9            29400.0   14.5           0.0  \n",
       "75%                 2280.0    63.0            32130.0   18.6           1.0  \n",
       "max                 6180.0    82.0            42420.0   25.7           1.0  "
      ]
     },
     "execution_count": 369,
     "metadata": {},
     "output_type": "execute_result"
    }
   ],
   "source": [
    "df.describe().round(1)"
   ]
  },
  {
   "cell_type": "code",
   "execution_count": 370,
   "metadata": {},
   "outputs": [
    {
     "data": {
      "text/html": [
       "<div>\n",
       "<style scoped>\n",
       "    .dataframe tbody tr th:only-of-type {\n",
       "        vertical-align: middle;\n",
       "    }\n",
       "\n",
       "    .dataframe tbody tr th {\n",
       "        vertical-align: top;\n",
       "    }\n",
       "\n",
       "    .dataframe thead th {\n",
       "        text-align: right;\n",
       "    }\n",
       "</style>\n",
       "<table border=\"1\" class=\"dataframe\">\n",
       "  <thead>\n",
       "    <tr style=\"text-align: right;\">\n",
       "      <th></th>\n",
       "      <th>variable</th>\n",
       "      <th>correlation</th>\n",
       "    </tr>\n",
       "  </thead>\n",
       "  <tbody>\n",
       "    <tr>\n",
       "      <th>13</th>\n",
       "      <td>sleepquality</td>\n",
       "      <td>1.000000</td>\n",
       "    </tr>\n",
       "    <tr>\n",
       "      <th>6</th>\n",
       "      <td>remsleep_sec</td>\n",
       "      <td>0.479544</td>\n",
       "    </tr>\n",
       "    <tr>\n",
       "      <th>11</th>\n",
       "      <td>durationinbed_sec</td>\n",
       "      <td>0.307933</td>\n",
       "    </tr>\n",
       "    <tr>\n",
       "      <th>5</th>\n",
       "      <td>deepsleep_sec</td>\n",
       "      <td>0.209132</td>\n",
       "    </tr>\n",
       "    <tr>\n",
       "      <th>4</th>\n",
       "      <td>lightsleep_sec</td>\n",
       "      <td>0.184302</td>\n",
       "    </tr>\n",
       "    <tr>\n",
       "      <th>3</th>\n",
       "      <td>musclemass_perc</td>\n",
       "      <td>0.142851</td>\n",
       "    </tr>\n",
       "    <tr>\n",
       "      <th>0</th>\n",
       "      <td>weight</td>\n",
       "      <td>0.089434</td>\n",
       "    </tr>\n",
       "    <tr>\n",
       "      <th>1</th>\n",
       "      <td>bmi</td>\n",
       "      <td>0.085849</td>\n",
       "    </tr>\n",
       "    <tr>\n",
       "      <th>2</th>\n",
       "      <td>bodyfat_perc</td>\n",
       "      <td>0.011365</td>\n",
       "    </tr>\n",
       "    <tr>\n",
       "      <th>10</th>\n",
       "      <td>avg_hr</td>\n",
       "      <td>-0.054627</td>\n",
       "    </tr>\n",
       "    <tr>\n",
       "      <th>9</th>\n",
       "      <td>durationtosleep_sec</td>\n",
       "      <td>-0.090089</td>\n",
       "    </tr>\n",
       "    <tr>\n",
       "      <th>12</th>\n",
       "      <td>temp</td>\n",
       "      <td>-0.119213</td>\n",
       "    </tr>\n",
       "    <tr>\n",
       "      <th>8</th>\n",
       "      <td>interruptions</td>\n",
       "      <td>-0.196425</td>\n",
       "    </tr>\n",
       "    <tr>\n",
       "      <th>7</th>\n",
       "      <td>awake_sec</td>\n",
       "      <td>-0.221941</td>\n",
       "    </tr>\n",
       "  </tbody>\n",
       "</table>\n",
       "</div>"
      ],
      "text/plain": [
       "               variable  correlation\n",
       "13         sleepquality     1.000000\n",
       "6          remsleep_sec     0.479544\n",
       "11    durationinbed_sec     0.307933\n",
       "5         deepsleep_sec     0.209132\n",
       "4        lightsleep_sec     0.184302\n",
       "3       musclemass_perc     0.142851\n",
       "0                weight     0.089434\n",
       "1                   bmi     0.085849\n",
       "2          bodyfat_perc     0.011365\n",
       "10               avg_hr    -0.054627\n",
       "9   durationtosleep_sec    -0.090089\n",
       "12                 temp    -0.119213\n",
       "8         interruptions    -0.196425\n",
       "7             awake_sec    -0.221941"
      ]
     },
     "execution_count": 370,
     "metadata": {},
     "output_type": "execute_result"
    }
   ],
   "source": [
    "# Calculate correlations\n",
    "\n",
    "df[num_vars].corrwith(df.sleepquality).to_frame('correlation').reset_index(drop=False).rename(columns = {'index':'variable'}).sort_values(by = 'correlation', ascending=False)#.to_frame('correlation').sort_values('correlation')"
   ]
  },
  {
   "cell_type": "markdown",
   "metadata": {},
   "source": [
    "Correlation is not causation, but here we can see multiple hypothesis the align with theory, lower temperatur could mean better sleep"
   ]
  },
  {
   "cell_type": "markdown",
   "metadata": {},
   "source": []
  },
  {
   "cell_type": "code",
   "execution_count": 371,
   "metadata": {},
   "outputs": [
    {
     "data": {
      "text/html": [
       "<div>\n",
       "<style scoped>\n",
       "    .dataframe tbody tr th:only-of-type {\n",
       "        vertical-align: middle;\n",
       "    }\n",
       "\n",
       "    .dataframe tbody tr th {\n",
       "        vertical-align: top;\n",
       "    }\n",
       "\n",
       "    .dataframe thead th {\n",
       "        text-align: right;\n",
       "    }\n",
       "</style>\n",
       "<table border=\"1\" class=\"dataframe\">\n",
       "  <thead>\n",
       "    <tr style=\"text-align: right;\">\n",
       "      <th></th>\n",
       "      <th>weight</th>\n",
       "      <th>bmi</th>\n",
       "      <th>bodyfat_perc</th>\n",
       "      <th>musclemass_perc</th>\n",
       "      <th>lightsleep_sec</th>\n",
       "      <th>deepsleep_sec</th>\n",
       "      <th>remsleep_sec</th>\n",
       "      <th>awake_sec</th>\n",
       "      <th>interruptions</th>\n",
       "      <th>durationtosleep_sec</th>\n",
       "      <th>avg_hr</th>\n",
       "      <th>durationinbed_sec</th>\n",
       "      <th>temp</th>\n",
       "      <th>sleepquality</th>\n",
       "    </tr>\n",
       "    <tr>\n",
       "      <th>sleepquality</th>\n",
       "      <th></th>\n",
       "      <th></th>\n",
       "      <th></th>\n",
       "      <th></th>\n",
       "      <th></th>\n",
       "      <th></th>\n",
       "      <th></th>\n",
       "      <th></th>\n",
       "      <th></th>\n",
       "      <th></th>\n",
       "      <th></th>\n",
       "      <th></th>\n",
       "      <th></th>\n",
       "      <th></th>\n",
       "    </tr>\n",
       "  </thead>\n",
       "  <tbody>\n",
       "    <tr>\n",
       "      <th>0</th>\n",
       "      <td>77.887838</td>\n",
       "      <td>24.311486</td>\n",
       "      <td>21.012162</td>\n",
       "      <td>33.265541</td>\n",
       "      <td>14751.367250</td>\n",
       "      <td>5052.552892</td>\n",
       "      <td>5042.160939</td>\n",
       "      <td>2704.602544</td>\n",
       "      <td>1.101932</td>\n",
       "      <td>2025.14125</td>\n",
       "      <td>61.076617</td>\n",
       "      <td>27550.683625</td>\n",
       "      <td>14.433581</td>\n",
       "      <td>0.0</td>\n",
       "    </tr>\n",
       "    <tr>\n",
       "      <th>1</th>\n",
       "      <td>78.063866</td>\n",
       "      <td>24.364706</td>\n",
       "      <td>21.026891</td>\n",
       "      <td>33.339496</td>\n",
       "      <td>16259.495798</td>\n",
       "      <td>5814.453782</td>\n",
       "      <td>7201.008403</td>\n",
       "      <td>2227.058824</td>\n",
       "      <td>0.731092</td>\n",
       "      <td>1875.12605</td>\n",
       "      <td>60.579832</td>\n",
       "      <td>31502.016807</td>\n",
       "      <td>12.981597</td>\n",
       "      <td>1.0</td>\n",
       "    </tr>\n",
       "  </tbody>\n",
       "</table>\n",
       "</div>"
      ],
      "text/plain": [
       "                 weight        bmi  bodyfat_perc  musclemass_perc  \\\n",
       "sleepquality                                                        \n",
       "0             77.887838  24.311486     21.012162        33.265541   \n",
       "1             78.063866  24.364706     21.026891        33.339496   \n",
       "\n",
       "              lightsleep_sec  deepsleep_sec  remsleep_sec    awake_sec  \\\n",
       "sleepquality                                                             \n",
       "0               14751.367250    5052.552892   5042.160939  2704.602544   \n",
       "1               16259.495798    5814.453782   7201.008403  2227.058824   \n",
       "\n",
       "              interruptions  durationtosleep_sec     avg_hr  \\\n",
       "sleepquality                                                  \n",
       "0                  1.101932           2025.14125  61.076617   \n",
       "1                  0.731092           1875.12605  60.579832   \n",
       "\n",
       "              durationinbed_sec       temp  sleepquality  \n",
       "sleepquality                                              \n",
       "0                  27550.683625  14.433581           0.0  \n",
       "1                  31502.016807  12.981597           1.0  "
      ]
     },
     "execution_count": 371,
     "metadata": {},
     "output_type": "execute_result"
    }
   ],
   "source": [
    "df.groupby(by='sleepquality')[num_vars].mean()"
   ]
  },
  {
   "cell_type": "code",
   "execution_count": 372,
   "metadata": {},
   "outputs": [
    {
     "data": {
      "text/plain": [
       "<Axes: >"
      ]
     },
     "execution_count": 372,
     "metadata": {},
     "output_type": "execute_result"
    },
    {
     "data": {
      "image/png": "[encoded data removed]",
      "text/plain": [
       "<Figure size 640x480 with 2 Axes>"
      ]
     },
     "metadata": {},
     "output_type": "display_data"
    }
   ],
   "source": [
    "#Create some scatterplots\n",
    "sns.heatmap(df[num_vars].corr())"
   ]
  },
  {
   "cell_type": "markdown",
   "metadata": {},
   "source": [
    "The data from the scale are highly positively correlated, it might make sense to test model where we only include 1-2 scale variables. Temperature seem strongly negatively correlated with the scale metrics."
   ]
  },
  {
   "cell_type": "markdown",
   "metadata": {},
   "source": [
    "## Model Training - Logistic Regression Without Parameter Tuning"
   ]
  },
  {
   "cell_type": "markdown",
   "metadata": {},
   "source": [
    "#### Train, Val, Test Split"
   ]
  },
  {
   "cell_type": "code",
   "execution_count": 373,
   "metadata": {},
   "outputs": [
    {
     "name": "stdout",
     "output_type": "stream",
     "text": [
      "267\n",
      "213 54 267\n",
      "159 54 213\n"
     ]
    }
   ],
   "source": [
    "from sklearn.model_selection import train_test_split\n",
    "df_full_train_orig, df_test_orig = train_test_split(df, train_size=0.8, test_size=0.2, random_state=1)\n",
    "df_train_orig, df_val_orig = train_test_split(df_full_train_orig, train_size=0.75, test_size=0.25, random_state=1)\n",
    "\n",
    "df_full_train = df_full_train_orig.copy()\n",
    "df_train = df_train_orig.copy()\n",
    "df_val = df_val_orig.copy()\n",
    "df_test = df_test_orig.copy()\n",
    "\n",
    "#Check length of splits\n",
    "print(len(df))\n",
    "print(len(df_full_train), len(df_test), len(df_full_train + df_test))\n",
    "print(len(df_train), len(df_val), len(df_train + df_val))\n"
   ]
  },
  {
   "cell_type": "code",
   "execution_count": 374,
   "metadata": {},
   "outputs": [
    {
     "data": {
      "text/plain": [
       "Index(['day', 'season', 'weight', 'bmi', 'bodyfat_perc', 'musclemass_perc',\n",
       "       'lightsleep_sec', 'deepsleep_sec', 'remsleep_sec', 'awake_sec',\n",
       "       'interruptions', 'durationtosleep_sec', 'avg_hr', 'durationinbed_sec',\n",
       "       'temp', 'sleepquality'],\n",
       "      dtype='object')"
      ]
     },
     "execution_count": 374,
     "metadata": {},
     "output_type": "execute_result"
    }
   ],
   "source": [
    "df_train.columns"
   ]
  },
  {
   "cell_type": "code",
   "execution_count": 375,
   "metadata": {},
   "outputs": [],
   "source": [
    "df_train.reset_index(drop=True, inplace=True)\n",
    "df_val.reset_index(drop=True, inplace=True)\n",
    "df_test.reset_index(drop=True, inplace=True)"
   ]
  },
  {
   "cell_type": "code",
   "execution_count": 376,
   "metadata": {},
   "outputs": [
    {
     "data": {
      "text/plain": [
       "Index(['day', 'season', 'weight', 'bmi', 'bodyfat_perc', 'musclemass_perc',\n",
       "       'lightsleep_sec', 'deepsleep_sec', 'remsleep_sec', 'awake_sec',\n",
       "       'interruptions', 'durationtosleep_sec', 'avg_hr', 'durationinbed_sec',\n",
       "       'temp', 'sleepquality'],\n",
       "      dtype='object')"
      ]
     },
     "execution_count": 376,
     "metadata": {},
     "output_type": "execute_result"
    }
   ],
   "source": [
    "df_train.columns"
   ]
  },
  {
   "cell_type": "code",
   "execution_count": 377,
   "metadata": {},
   "outputs": [],
   "source": [
    "y_train = df_train.sleepquality\n",
    "y_val = df_val.sleepquality\n",
    "y_test = df_test.sleepquality\n",
    "\n"
   ]
  },
  {
   "cell_type": "code",
   "execution_count": 378,
   "metadata": {},
   "outputs": [],
   "source": [
    "del df_train['sleepquality']\n",
    "del df_val['sleepquality']"
   ]
  },
  {
   "cell_type": "markdown",
   "metadata": {},
   "source": [
    "#### One Hot Encoding"
   ]
  },
  {
   "cell_type": "code",
   "execution_count": 379,
   "metadata": {},
   "outputs": [],
   "source": [
    "from sklearn.feature_extraction import DictVectorizer\n",
    "\n",
    "#Initiate dict vectorizer\n",
    "dv = DictVectorizer(sparse=False) #fit_transform\n",
    "\n",
    "#Transform data to dicts\n",
    "\n",
    "train_dict = df_train.to_dict(orient='records')\n",
    "val_dict = df_val.to_dict(orient='records')\n",
    "test_dict = df_test.to_dict(orient='records')\n",
    "\n",
    "\n",
    "#Fit the DictVectorizer\n",
    "\n",
    "X_train = dv.fit_transform(train_dict)\n",
    "X_val = dv.transform(val_dict)\n",
    "X_test = dv.transform(test_dict)\n"
   ]
  },
  {
   "cell_type": "markdown",
   "metadata": {},
   "source": [
    "#### Fit Model"
   ]
  },
  {
   "cell_type": "code",
   "execution_count": 380,
   "metadata": {},
   "outputs": [
    {
     "name": "stderr",
     "output_type": "stream",
     "text": [
      "/Users/kosta/.local/share/virtualenvs/homework-iNNgU132/lib/python3.9/site-packages/sklearn/linear_model/_logistic.py:460: ConvergenceWarning: lbfgs failed to converge (status=1):\n",
      "STOP: TOTAL NO. of ITERATIONS REACHED LIMIT.\n",
      "\n",
      "Increase the number of iterations (max_iter) or scale the data as shown in:\n",
      "    https://scikit-learn.org/stable/modules/preprocessing.html\n",
      "Please also refer to the documentation for alternative solver options:\n",
      "    https://scikit-learn.org/stable/modules/linear_model.html#logistic-regression\n",
      "  n_iter_i = _check_optimize_result(\n"
     ]
    },
    {
     "data": {
      "text/html": [
       "<style>#sk-container-id-7 {color: black;}#sk-container-id-7 pre{padding: 0;}#sk-container-id-7 div.sk-toggleable {background-color: white;}#sk-container-id-7 label.sk-toggleable__label {cursor: pointer;display: block;width: 100%;margin-bottom: 0;padding: 0.3em;box-sizing: border-box;text-align: center;}#sk-container-id-7 label.sk-toggleable__label-arrow:before {content: \"▸\";float: left;margin-right: 0.25em;color: #696969;}#sk-container-id-7 label.sk-toggleable__label-arrow:hover:before {color: black;}#sk-container-id-7 div.sk-estimator:hover label.sk-toggleable__label-arrow:before {color: black;}#sk-container-id-7 div.sk-toggleable__content {max-height: 0;max-width: 0;overflow: hidden;text-align: left;background-color: #f0f8ff;}#sk-container-id-7 div.sk-toggleable__content pre {margin: 0.2em;color: black;border-radius: 0.25em;background-color: #f0f8ff;}#sk-container-id-7 input.sk-toggleable__control:checked~div.sk-toggleable__content {max-height: 200px;max-width: 100%;overflow: auto;}#sk-container-id-7 input.sk-toggleable__control:checked~label.sk-toggleable__label-arrow:before {content: \"▾\";}#sk-container-id-7 div.sk-estimator input.sk-toggleable__control:checked~label.sk-toggleable__label {background-color: #d4ebff;}#sk-container-id-7 div.sk-label input.sk-toggleable__control:checked~label.sk-toggleable__label {background-color: #d4ebff;}#sk-container-id-7 input.sk-hidden--visually {border: 0;clip: rect(1px 1px 1px 1px);clip: rect(1px, 1px, 1px, 1px);height: 1px;margin: -1px;overflow: hidden;padding: 0;position: absolute;width: 1px;}#sk-container-id-7 div.sk-estimator {font-family: monospace;background-color: #f0f8ff;border: 1px dotted black;border-radius: 0.25em;box-sizing: border-box;margin-bottom: 0.5em;}#sk-container-id-7 div.sk-estimator:hover {background-color: #d4ebff;}#sk-container-id-7 div.sk-parallel-item::after {content: \"\";width: 100%;border-bottom: 1px solid gray;flex-grow: 1;}#sk-container-id-7 div.sk-label:hover label.sk-toggleable__label {background-color: #d4ebff;}#sk-container-id-7 div.sk-serial::before {content: \"\";position: absolute;border-left: 1px solid gray;box-sizing: border-box;top: 0;bottom: 0;left: 50%;z-index: 0;}#sk-container-id-7 div.sk-serial {display: flex;flex-direction: column;align-items: center;background-color: white;padding-right: 0.2em;padding-left: 0.2em;position: relative;}#sk-container-id-7 div.sk-item {position: relative;z-index: 1;}#sk-container-id-7 div.sk-parallel {display: flex;align-items: stretch;justify-content: center;background-color: white;position: relative;}#sk-container-id-7 div.sk-item::before, #sk-container-id-7 div.sk-parallel-item::before {content: \"\";position: absolute;border-left: 1px solid gray;box-sizing: border-box;top: 0;bottom: 0;left: 50%;z-index: -1;}#sk-container-id-7 div.sk-parallel-item {display: flex;flex-direction: column;z-index: 1;position: relative;background-color: white;}#sk-container-id-7 div.sk-parallel-item:first-child::after {align-self: flex-end;width: 50%;}#sk-container-id-7 div.sk-parallel-item:last-child::after {align-self: flex-start;width: 50%;}#sk-container-id-7 div.sk-parallel-item:only-child::after {width: 0;}#sk-container-id-7 div.sk-dashed-wrapped {border: 1px dashed gray;margin: 0 0.4em 0.5em 0.4em;box-sizing: border-box;padding-bottom: 0.4em;background-color: white;}#sk-container-id-7 div.sk-label label {font-family: monospace;font-weight: bold;display: inline-block;line-height: 1.2em;}#sk-container-id-7 div.sk-label-container {text-align: center;}#sk-container-id-7 div.sk-container {/* jupyter's `normalize.less` sets `[hidden] { display: none; }` but bootstrap.min.css set `[hidden] { display: none !important; }` so we also need the `!important` here to be able to override the default hidden behavior on the sphinx rendered scikit-learn.org. See: https://github.com/scikit-learn/scikit-learn/issues/21755 */display: inline-block !important;position: relative;}#sk-container-id-7 div.sk-text-repr-fallback {display: none;}</style><div id=\"sk-container-id-7\" class=\"sk-top-container\"><div class=\"sk-text-repr-fallback\"><pre>LogisticRegression()</pre><b>In a Jupyter environment, please rerun this cell to show the HTML representation or trust the notebook. <br />On GitHub, the HTML representation is unable to render, please try loading this page with nbviewer.org.</b></div><div class=\"sk-container\" hidden><div class=\"sk-item\"><div class=\"sk-estimator sk-toggleable\"><input class=\"sk-toggleable__control sk-hidden--visually\" id=\"sk-estimator-id-7\" type=\"checkbox\" checked><label for=\"sk-estimator-id-7\" class=\"sk-toggleable__label sk-toggleable__label-arrow\">LogisticRegression</label><div class=\"sk-toggleable__content\"><pre>LogisticRegression()</pre></div></div></div></div></div>"
      ],
      "text/plain": [
       "LogisticRegression()"
      ]
     },
     "execution_count": 380,
     "metadata": {},
     "output_type": "execute_result"
    }
   ],
   "source": [
    "from sklearn.linear_model import LogisticRegression\n",
    "\n",
    "model_1 = LogisticRegression()\n",
    "model_1.fit(X_train, y_train)\n"
   ]
  },
  {
   "cell_type": "code",
   "execution_count": 381,
   "metadata": {},
   "outputs": [
    {
     "data": {
      "text/html": [
       "<div>\n",
       "<style scoped>\n",
       "    .dataframe tbody tr th:only-of-type {\n",
       "        vertical-align: middle;\n",
       "    }\n",
       "\n",
       "    .dataframe tbody tr th {\n",
       "        vertical-align: top;\n",
       "    }\n",
       "\n",
       "    .dataframe thead th {\n",
       "        text-align: right;\n",
       "    }\n",
       "</style>\n",
       "<table border=\"1\" class=\"dataframe\">\n",
       "  <thead>\n",
       "    <tr style=\"text-align: right;\">\n",
       "      <th></th>\n",
       "      <th>feature</th>\n",
       "      <th>coefficients</th>\n",
       "    </tr>\n",
       "  </thead>\n",
       "  <tbody>\n",
       "    <tr>\n",
       "      <th>0</th>\n",
       "      <td>season=winter</td>\n",
       "      <td>0.009169</td>\n",
       "    </tr>\n",
       "    <tr>\n",
       "      <th>1</th>\n",
       "      <td>season=summer</td>\n",
       "      <td>0.006611</td>\n",
       "    </tr>\n",
       "    <tr>\n",
       "      <th>2</th>\n",
       "      <td>day=Wednesday</td>\n",
       "      <td>0.003326</td>\n",
       "    </tr>\n",
       "    <tr>\n",
       "      <th>3</th>\n",
       "      <td>day=Thursday</td>\n",
       "      <td>0.002735</td>\n",
       "    </tr>\n",
       "    <tr>\n",
       "      <th>4</th>\n",
       "      <td>day=Friday</td>\n",
       "      <td>0.002173</td>\n",
       "    </tr>\n",
       "    <tr>\n",
       "      <th>5</th>\n",
       "      <td>deepsleep_sec</td>\n",
       "      <td>0.001409</td>\n",
       "    </tr>\n",
       "    <tr>\n",
       "      <th>6</th>\n",
       "      <td>remsleep_sec</td>\n",
       "      <td>0.001338</td>\n",
       "    </tr>\n",
       "    <tr>\n",
       "      <th>7</th>\n",
       "      <td>durationtosleep_sec</td>\n",
       "      <td>0.000782</td>\n",
       "    </tr>\n",
       "    <tr>\n",
       "      <th>8</th>\n",
       "      <td>day=Tuesday</td>\n",
       "      <td>0.000525</td>\n",
       "    </tr>\n",
       "    <tr>\n",
       "      <th>9</th>\n",
       "      <td>durationinbed_sec</td>\n",
       "      <td>0.000466</td>\n",
       "    </tr>\n",
       "    <tr>\n",
       "      <th>10</th>\n",
       "      <td>lightsleep_sec</td>\n",
       "      <td>0.000222</td>\n",
       "    </tr>\n",
       "    <tr>\n",
       "      <th>11</th>\n",
       "      <td>day=Monday</td>\n",
       "      <td>-0.001792</td>\n",
       "    </tr>\n",
       "    <tr>\n",
       "      <th>12</th>\n",
       "      <td>day=Saturday</td>\n",
       "      <td>-0.002450</td>\n",
       "    </tr>\n",
       "    <tr>\n",
       "      <th>13</th>\n",
       "      <td>awake_sec</td>\n",
       "      <td>-0.002502</td>\n",
       "    </tr>\n",
       "    <tr>\n",
       "      <th>14</th>\n",
       "      <td>season=spring</td>\n",
       "      <td>-0.003411</td>\n",
       "    </tr>\n",
       "    <tr>\n",
       "      <th>15</th>\n",
       "      <td>interruptions</td>\n",
       "      <td>-0.005132</td>\n",
       "    </tr>\n",
       "    <tr>\n",
       "      <th>16</th>\n",
       "      <td>day=Sunday</td>\n",
       "      <td>-0.007330</td>\n",
       "    </tr>\n",
       "    <tr>\n",
       "      <th>17</th>\n",
       "      <td>season=autumn</td>\n",
       "      <td>-0.015184</td>\n",
       "    </tr>\n",
       "    <tr>\n",
       "      <th>18</th>\n",
       "      <td>bodyfat_perc</td>\n",
       "      <td>-0.050814</td>\n",
       "    </tr>\n",
       "    <tr>\n",
       "      <th>19</th>\n",
       "      <td>bmi</td>\n",
       "      <td>-0.060400</td>\n",
       "    </tr>\n",
       "    <tr>\n",
       "      <th>20</th>\n",
       "      <td>musclemass_perc</td>\n",
       "      <td>-0.085942</td>\n",
       "    </tr>\n",
       "    <tr>\n",
       "      <th>21</th>\n",
       "      <td>avg_hr</td>\n",
       "      <td>-0.110745</td>\n",
       "    </tr>\n",
       "    <tr>\n",
       "      <th>22</th>\n",
       "      <td>temp</td>\n",
       "      <td>-0.136714</td>\n",
       "    </tr>\n",
       "    <tr>\n",
       "      <th>23</th>\n",
       "      <td>weight</td>\n",
       "      <td>-0.194795</td>\n",
       "    </tr>\n",
       "  </tbody>\n",
       "</table>\n",
       "</div>"
      ],
      "text/plain": [
       "                feature  coefficients\n",
       "0         season=winter      0.009169\n",
       "1         season=summer      0.006611\n",
       "2         day=Wednesday      0.003326\n",
       "3          day=Thursday      0.002735\n",
       "4            day=Friday      0.002173\n",
       "5         deepsleep_sec      0.001409\n",
       "6          remsleep_sec      0.001338\n",
       "7   durationtosleep_sec      0.000782\n",
       "8           day=Tuesday      0.000525\n",
       "9     durationinbed_sec      0.000466\n",
       "10       lightsleep_sec      0.000222\n",
       "11           day=Monday     -0.001792\n",
       "12         day=Saturday     -0.002450\n",
       "13            awake_sec     -0.002502\n",
       "14        season=spring     -0.003411\n",
       "15        interruptions     -0.005132\n",
       "16           day=Sunday     -0.007330\n",
       "17        season=autumn     -0.015184\n",
       "18         bodyfat_perc     -0.050814\n",
       "19                  bmi     -0.060400\n",
       "20      musclemass_perc     -0.085942\n",
       "21               avg_hr     -0.110745\n",
       "22                 temp     -0.136714\n",
       "23               weight     -0.194795"
      ]
     },
     "execution_count": 381,
     "metadata": {},
     "output_type": "execute_result"
    }
   ],
   "source": [
    "#Create a table with coefficients\n",
    "features = dv.get_feature_names_out()\n",
    "df_coefficients = pd.DataFrame()\n",
    "df_coefficients['feature'] = features\n",
    "model_coefficients = model_1.coef_[0]\n",
    "# model_coefficients = model_coefficients.transpose()\n",
    "df_coefficients['coefficients'] = model_coefficients\n",
    "df_coefficients.sort_values(by='coefficients', ascending=False).reset_index(drop=True)"
   ]
  },
  {
   "cell_type": "markdown",
   "metadata": {},
   "source": [
    "#### Predict on Validation Data"
   ]
  },
  {
   "cell_type": "code",
   "execution_count": 382,
   "metadata": {},
   "outputs": [
    {
     "name": "stdout",
     "output_type": "stream",
     "text": [
      "   y_val  pred_val  correct_prediction\n",
      "0      0         1                   0\n",
      "1      1         0                   0\n",
      "2      1         1                   1\n",
      "3      1         1                   1\n",
      "4      0         0                   1\n",
      "85.19% correctly predicted in validation data set with model_1\n"
     ]
    }
   ],
   "source": [
    "#Predic\n",
    "pred_val = model_1.predict(X_val)\n",
    "pred_val_proba = model_1.predict_proba(X_val)[:,1]\n",
    "df_pred = pd.DataFrame()\n",
    "df_pred['y_val'] = y_val\n",
    "df_pred['pred_val'] = pred_val\n",
    "df_pred['correct_prediction'] = (df_pred['y_val']==df_pred['pred_val']).astype(int)\n",
    "print(df_pred.head())\n",
    "correct_pred_val = (df_pred.correct_prediction.mean() * 100).round(2)\n",
    "print(f'{correct_pred_val}% correctly predicted in validation data set with model_1')"
   ]
  },
  {
   "cell_type": "code",
   "execution_count": 383,
   "metadata": {},
   "outputs": [
    {
     "data": {
      "text/plain": [
       "0.86"
      ]
     },
     "execution_count": 383,
     "metadata": {},
     "output_type": "execute_result"
    }
   ],
   "source": [
    "roc_auc_score(y_val,pred_val_proba).round(2)"
   ]
  },
  {
   "cell_type": "markdown",
   "metadata": {},
   "source": [
    "85 Percent were correctly predicted with model_1. "
   ]
  },
  {
   "cell_type": "markdown",
   "metadata": {},
   "source": [
    "#### Train model with full train and use on y_test"
   ]
  },
  {
   "cell_type": "code",
   "execution_count": 384,
   "metadata": {},
   "outputs": [],
   "source": [
    "df_full_train.reset_index(drop=True, inplace=True)"
   ]
  },
  {
   "cell_type": "code",
   "execution_count": 385,
   "metadata": {},
   "outputs": [],
   "source": [
    "#df_fulltrain\n",
    "y_full_train = df_full_train['sleepquality']\n",
    "df_full_train_no_y = df_full_train.copy()\n",
    "del df_full_train_no_y['sleepquality']"
   ]
  },
  {
   "cell_type": "code",
   "execution_count": 386,
   "metadata": {},
   "outputs": [],
   "source": [
    "#One Hot Encoding\n",
    "df_full_train_no_y_dict = df_full_train_no_y.to_dict(orient='records')\n",
    "X_full_train = dv.transform(df_full_train_no_y_dict)"
   ]
  },
  {
   "cell_type": "code",
   "execution_count": 387,
   "metadata": {},
   "outputs": [
    {
     "name": "stderr",
     "output_type": "stream",
     "text": [
      "/Users/kosta/.local/share/virtualenvs/homework-iNNgU132/lib/python3.9/site-packages/sklearn/linear_model/_logistic.py:460: ConvergenceWarning: lbfgs failed to converge (status=1):\n",
      "STOP: TOTAL NO. of ITERATIONS REACHED LIMIT.\n",
      "\n",
      "Increase the number of iterations (max_iter) or scale the data as shown in:\n",
      "    https://scikit-learn.org/stable/modules/preprocessing.html\n",
      "Please also refer to the documentation for alternative solver options:\n",
      "    https://scikit-learn.org/stable/modules/linear_model.html#logistic-regression\n",
      "  n_iter_i = _check_optimize_result(\n"
     ]
    },
    {
     "data": {
      "text/html": [
       "<style>#sk-container-id-8 {color: black;}#sk-container-id-8 pre{padding: 0;}#sk-container-id-8 div.sk-toggleable {background-color: white;}#sk-container-id-8 label.sk-toggleable__label {cursor: pointer;display: block;width: 100%;margin-bottom: 0;padding: 0.3em;box-sizing: border-box;text-align: center;}#sk-container-id-8 label.sk-toggleable__label-arrow:before {content: \"▸\";float: left;margin-right: 0.25em;color: #696969;}#sk-container-id-8 label.sk-toggleable__label-arrow:hover:before {color: black;}#sk-container-id-8 div.sk-estimator:hover label.sk-toggleable__label-arrow:before {color: black;}#sk-container-id-8 div.sk-toggleable__content {max-height: 0;max-width: 0;overflow: hidden;text-align: left;background-color: #f0f8ff;}#sk-container-id-8 div.sk-toggleable__content pre {margin: 0.2em;color: black;border-radius: 0.25em;background-color: #f0f8ff;}#sk-container-id-8 input.sk-toggleable__control:checked~div.sk-toggleable__content {max-height: 200px;max-width: 100%;overflow: auto;}#sk-container-id-8 input.sk-toggleable__control:checked~label.sk-toggleable__label-arrow:before {content: \"▾\";}#sk-container-id-8 div.sk-estimator input.sk-toggleable__control:checked~label.sk-toggleable__label {background-color: #d4ebff;}#sk-container-id-8 div.sk-label input.sk-toggleable__control:checked~label.sk-toggleable__label {background-color: #d4ebff;}#sk-container-id-8 input.sk-hidden--visually {border: 0;clip: rect(1px 1px 1px 1px);clip: rect(1px, 1px, 1px, 1px);height: 1px;margin: -1px;overflow: hidden;padding: 0;position: absolute;width: 1px;}#sk-container-id-8 div.sk-estimator {font-family: monospace;background-color: #f0f8ff;border: 1px dotted black;border-radius: 0.25em;box-sizing: border-box;margin-bottom: 0.5em;}#sk-container-id-8 div.sk-estimator:hover {background-color: #d4ebff;}#sk-container-id-8 div.sk-parallel-item::after {content: \"\";width: 100%;border-bottom: 1px solid gray;flex-grow: 1;}#sk-container-id-8 div.sk-label:hover label.sk-toggleable__label {background-color: #d4ebff;}#sk-container-id-8 div.sk-serial::before {content: \"\";position: absolute;border-left: 1px solid gray;box-sizing: border-box;top: 0;bottom: 0;left: 50%;z-index: 0;}#sk-container-id-8 div.sk-serial {display: flex;flex-direction: column;align-items: center;background-color: white;padding-right: 0.2em;padding-left: 0.2em;position: relative;}#sk-container-id-8 div.sk-item {position: relative;z-index: 1;}#sk-container-id-8 div.sk-parallel {display: flex;align-items: stretch;justify-content: center;background-color: white;position: relative;}#sk-container-id-8 div.sk-item::before, #sk-container-id-8 div.sk-parallel-item::before {content: \"\";position: absolute;border-left: 1px solid gray;box-sizing: border-box;top: 0;bottom: 0;left: 50%;z-index: -1;}#sk-container-id-8 div.sk-parallel-item {display: flex;flex-direction: column;z-index: 1;position: relative;background-color: white;}#sk-container-id-8 div.sk-parallel-item:first-child::after {align-self: flex-end;width: 50%;}#sk-container-id-8 div.sk-parallel-item:last-child::after {align-self: flex-start;width: 50%;}#sk-container-id-8 div.sk-parallel-item:only-child::after {width: 0;}#sk-container-id-8 div.sk-dashed-wrapped {border: 1px dashed gray;margin: 0 0.4em 0.5em 0.4em;box-sizing: border-box;padding-bottom: 0.4em;background-color: white;}#sk-container-id-8 div.sk-label label {font-family: monospace;font-weight: bold;display: inline-block;line-height: 1.2em;}#sk-container-id-8 div.sk-label-container {text-align: center;}#sk-container-id-8 div.sk-container {/* jupyter's `normalize.less` sets `[hidden] { display: none; }` but bootstrap.min.css set `[hidden] { display: none !important; }` so we also need the `!important` here to be able to override the default hidden behavior on the sphinx rendered scikit-learn.org. See: https://github.com/scikit-learn/scikit-learn/issues/21755 */display: inline-block !important;position: relative;}#sk-container-id-8 div.sk-text-repr-fallback {display: none;}</style><div id=\"sk-container-id-8\" class=\"sk-top-container\"><div class=\"sk-text-repr-fallback\"><pre>LogisticRegression()</pre><b>In a Jupyter environment, please rerun this cell to show the HTML representation or trust the notebook. <br />On GitHub, the HTML representation is unable to render, please try loading this page with nbviewer.org.</b></div><div class=\"sk-container\" hidden><div class=\"sk-item\"><div class=\"sk-estimator sk-toggleable\"><input class=\"sk-toggleable__control sk-hidden--visually\" id=\"sk-estimator-id-8\" type=\"checkbox\" checked><label for=\"sk-estimator-id-8\" class=\"sk-toggleable__label sk-toggleable__label-arrow\">LogisticRegression</label><div class=\"sk-toggleable__content\"><pre>LogisticRegression()</pre></div></div></div></div></div>"
      ],
      "text/plain": [
       "LogisticRegression()"
      ]
     },
     "execution_count": 387,
     "metadata": {},
     "output_type": "execute_result"
    }
   ],
   "source": [
    "#Fit model\n",
    "model_2 = LogisticRegression()\n",
    "model_2.fit(X_full_train,y_full_train)"
   ]
  },
  {
   "cell_type": "code",
   "execution_count": 388,
   "metadata": {},
   "outputs": [],
   "source": [
    "#Predict on test data\n",
    "pred_test = model_2.predict(X_test)"
   ]
  },
  {
   "cell_type": "code",
   "execution_count": 389,
   "metadata": {},
   "outputs": [],
   "source": [
    "pred_test_proba = model_2.predict_proba(X_test)"
   ]
  },
  {
   "cell_type": "code",
   "execution_count": 390,
   "metadata": {},
   "outputs": [],
   "source": [
    "pred_test_proba_round = pred_test_proba[:,1].round(2)"
   ]
  },
  {
   "cell_type": "code",
   "execution_count": 391,
   "metadata": {},
   "outputs": [
    {
     "name": "stdout",
     "output_type": "stream",
     "text": [
      "87.04% correctly predicted in test data set with model_2\n"
     ]
    }
   ],
   "source": [
    "df_pred_test = pd.DataFrame()\n",
    "df_pred_test['y_test'] = y_test\n",
    "df_pred_test['pred_test_proba'] = pred_test_proba_round\n",
    "df_pred_test['pred_test'] = pred_test\n",
    "df_pred_test['correct_prediction'] = (df_pred_test['y_test']==df_pred_test['pred_test']).astype(int)\n",
    "correct_pred_test = (df_pred_test['correct_prediction'].mean() * 100).round(2)\n",
    "print(f'{correct_pred_test}% correctly predicted in test data set with model_2')\n"
   ]
  },
  {
   "cell_type": "markdown",
   "metadata": {},
   "source": [
    "## Model Training - Logistic Regression With Parameter Tuning"
   ]
  },
  {
   "cell_type": "markdown",
   "metadata": {},
   "source": [
    "1. Cross Validation to find the best parameter for C (Regularization, restricts how far away coefficients can be from 0)\n",
    "2. When the correct C has been detected, find best threshold for that model, again with corss validation"
   ]
  },
  {
   "cell_type": "code",
   "execution_count": 392,
   "metadata": {},
   "outputs": [],
   "source": [
    "#Create a training function\n",
    "\n",
    "def train(df_train, y_train, C = 1.0):\n",
    "    \"\"\"Vectorize feature dataframe and train model\"\"\"\n",
    "    df_train_dict = df_train.to_dict(orient='records')\n",
    "    dv = DictVectorizer(sparse = False)\n",
    "    X_train = dv.fit_transform(df_train_dict)\n",
    "    model = LogisticRegression(C=C, max_iter=3000)\n",
    "    model.fit(X_train, y_train)\n",
    "    return dv, model\n",
    "\n",
    "\n",
    "def predict(df, dv, model):\n",
    "    \"\"\"Vectorize features and make predictions\"\"\"\n",
    "    df_dict = df.to_dict(orient='records')\n",
    "    X = dv.transform(df_dict)\n",
    "    y_pred = model.predict_proba(X)[:,1]\n",
    "    return y_pred\n"
   ]
  },
  {
   "cell_type": "code",
   "execution_count": 393,
   "metadata": {},
   "outputs": [
    {
     "name": "stderr",
     "output_type": "stream",
     "text": [
      "  0%|          | 0/6 [00:00<?, ?it/s]"
     ]
    },
    {
     "name": "stdout",
     "output_type": "stream",
     "text": [
      "C=0.001 0.87299 +- 0.03150\n",
      "C=0.01 0.88386 +- 0.03216\n"
     ]
    },
    {
     "name": "stderr",
     "output_type": "stream",
     "text": [
      " 50%|█████     | 3/6 [00:00<00:00, 19.15it/s]"
     ]
    },
    {
     "name": "stdout",
     "output_type": "stream",
     "text": [
      "C=0.5 0.88282 +- 0.02714\n",
      "C=1 0.88516 +- 0.03010\n",
      "C=5 0.88734 +- 0.02710\n"
     ]
    },
    {
     "name": "stderr",
     "output_type": "stream",
     "text": [
      "100%|██████████| 6/6 [00:00<00:00, 19.65it/s]"
     ]
    },
    {
     "name": "stdout",
     "output_type": "stream",
     "text": [
      "C=10 0.88734 +- 0.02710\n"
     ]
    },
    {
     "name": "stderr",
     "output_type": "stream",
     "text": [
      "\n"
     ]
    }
   ],
   "source": [
    "C_options = [0.001, 0.01, 0.5, 1, 5, 10]\n",
    "\n",
    "for c in tqdm(C_options):\n",
    "\n",
    "    kf = KFold(n_splits=5, shuffle = True, random_state = 1)\n",
    "\n",
    "    scores = []\n",
    "\n",
    "    for train_idx, val_idx in kf.split(df_full_train):\n",
    "        df_train = df_full_train.iloc[train_idx]\n",
    "        df_val = df_full_train.iloc[val_idx]\n",
    "\n",
    "\n",
    "\n",
    "        y_train = df_train['sleepquality'].values\n",
    "        y_val = df_val['sleepquality'].values\n",
    "\n",
    "        #Remove the y variable\n",
    "        del df_train['sleepquality']\n",
    "        del df_val['sleepquality']\n",
    "\n",
    "        dv, model = train(df_train, y_train, C = c)\n",
    "\n",
    "        y_pred = predict(df_val, dv, model)\n",
    "\n",
    "        scores.append(roc_auc_score(y_val, y_pred))\n",
    "    \n",
    "\n",
    "    print('C=%s %.5f +- %.5f' % (c, np.mean(scores), np.std(scores)))\n",
    "\n",
    "\n",
    "    "
   ]
  },
  {
   "cell_type": "markdown",
   "metadata": {},
   "source": [
    "C = 5 and C = 10 have the best results"
   ]
  },
  {
   "cell_type": "code",
   "execution_count": 394,
   "metadata": {},
   "outputs": [
    {
     "name": "stdout",
     "output_type": "stream",
     "text": [
      "The final logistic regression model applied on the test data has auc: 0.89\n"
     ]
    }
   ],
   "source": [
    "#Using it on th test data\n",
    "\n",
    "dv, model = train(df_full_train_no_y, y_full_train, C = 5)\n",
    "y_pred = predict(df_test, dv, model)\n",
    "auc = roc_auc_score(y_test,y_pred)\n",
    "\n",
    "print(f'The final logistic regression model applied on the test data has auc: {round(auc,2)}')"
   ]
  },
  {
   "cell_type": "markdown",
   "metadata": {},
   "source": [
    "A AUC scroe of 0.885 is reached. Increased performance slightly in comparison to non-tuned model. No feature were removed."
   ]
  },
  {
   "cell_type": "markdown",
   "metadata": {},
   "source": [
    "## Model Training - Tree Based Model"
   ]
  },
  {
   "cell_type": "code",
   "execution_count": 395,
   "metadata": {},
   "outputs": [],
   "source": [
    "#recreating the original dataframes\n",
    "df_full_train = df_full_train_orig.copy()\n",
    "df_train = df_train_orig.copy()\n",
    "df_val = df_val_orig.copy()\n",
    "df_test = df_test_orig.copy()"
   ]
  },
  {
   "cell_type": "markdown",
   "metadata": {},
   "source": [
    "### Model Training Decision Tree"
   ]
  },
  {
   "cell_type": "code",
   "execution_count": 396,
   "metadata": {},
   "outputs": [],
   "source": [
    "from sklearn.tree import DecisionTreeClassifier\n",
    "from sklearn.tree import export_text"
   ]
  },
  {
   "cell_type": "code",
   "execution_count": 397,
   "metadata": {},
   "outputs": [],
   "source": [
    "y_full_train = df_full_train.sleepquality\n",
    "y_train = df_train.sleepquality\n",
    "y_val = df_val.sleepquality\n",
    "y_test = df_test.sleepquality\n",
    "\n",
    "del df_full_train['sleepquality']\n",
    "del df_train['sleepquality']\n",
    "del df_val['sleepquality']\n",
    "del df_test['sleepquality']\n"
   ]
  },
  {
   "cell_type": "code",
   "execution_count": 398,
   "metadata": {},
   "outputs": [
    {
     "name": "stdout",
     "output_type": "stream",
     "text": [
      "Decision Tree Performance:  0.76\n"
     ]
    }
   ],
   "source": [
    "#Train single tree with default parameters\n",
    "df_train_dict = df_train.to_dict(orient='records')\n",
    "\n",
    "X_train = dv.fit_transform(df_train_dict)\n",
    "\n",
    "dt = DecisionTreeClassifier()\n",
    "\n",
    "dt.fit(X_train,y_train)\n",
    "\n",
    "df_val_dict = df_val.to_dict(orient='records')\n",
    "\n",
    "X_val = dv.transform(df_val_dict)\n",
    "\n",
    "y_val_pred = dt.predict_proba(X_val)[:,1]\n",
    "\n",
    "print('Decision Tree Performance: ',roc_auc_score(y_val,y_val_pred).round(2))\n"
   ]
  },
  {
   "cell_type": "markdown",
   "metadata": {},
   "source": [
    "### Model Training Decision Tree With Parameter Tuning"
   ]
  },
  {
   "cell_type": "code",
   "execution_count": 399,
   "metadata": {},
   "outputs": [],
   "source": [
    "#Create different decision trees with variations in max_depth and min_sample_leaf\n",
    "\n",
    "\n",
    "\n",
    "\n",
    "\n",
    "df_auc = pd.DataFrame(columns = ['depths','min_leaves','auc_score'])\n",
    "\n",
    "#Instantiate dict vectorizer\n",
    "dv = DictVectorizer(sparse=False)\n",
    "\n",
    "#Transform df to list(dict)\n",
    "\n",
    "df_full_train_dict = df_full_train.to_dict(orient='records')\n",
    "df_train_dict = df_train.to_dict(orient='records')\n",
    "df_val_dict = df_val.to_dict(orient='records')\n",
    "df_test_dict = df_test.to_dict(orient='records')\n",
    "\n",
    "#One Hot Encoding\n",
    "\n",
    "\n",
    "X_fulltrain = dv.fit_transform(df_full_train_dict)\n",
    "X_train = dv.fit_transform(df_train_dict)\n",
    "X_val = dv.transform(df_val_dict)\n",
    "X_test = dv.transform(df_test_dict)\n",
    "\n",
    "depth_options = [2,3,4,5,6,7,8]\n",
    "min_leaves_options = [5, 10, 15,20]\n",
    "\n",
    "\n",
    "for depth in depth_options:\n",
    "        for min_leaf in min_leaves_options:\n",
    "                #Train\n",
    "                dt = DecisionTreeClassifier(max_depth=depth, min_samples_leaf=min_leaf)\n",
    "                \n",
    "                dt.fit(X_train,y_train)\n",
    "                #Predict\n",
    "                y_pred = dt.predict_proba(X_val)[:,1]\n",
    "                #Evaluate\n",
    "                auc = roc_auc_score(y_val, y_pred)\n",
    "\n",
    "                \n",
    "                row = [depth, min_leaf, round(auc,2)]\n",
    "                \n",
    "                df_auc.loc[len(df_auc)] = row\n",
    "\n",
    "\n",
    "\n",
    "df_auc = df_auc.pivot(columns = 'depths', index = 'min_leaves', values = 'auc_score')\n"
   ]
  },
  {
   "cell_type": "code",
   "execution_count": 400,
   "metadata": {},
   "outputs": [
    {
     "data": {
      "text/plain": [
       "<Axes: xlabel='depths', ylabel='min_leaves'>"
      ]
     },
     "execution_count": 400,
     "metadata": {},
     "output_type": "execute_result"
    },
    {
     "data": {
      "image/png": "[encoded data removed]",
      "text/plain": [
       "<Figure size 640x480 with 2 Axes>"
      ]
     },
     "metadata": {},
     "output_type": "display_data"
    }
   ],
   "source": [
    "sns.heatmap(df_auc, annot=True)"
   ]
  },
  {
   "cell_type": "markdown",
   "metadata": {},
   "source": [
    "We keep a decision tree with min_leaves = 5 and depth = 2, auc = 0.85\n"
   ]
  },
  {
   "cell_type": "code",
   "execution_count": 401,
   "metadata": {},
   "outputs": [
    {
     "name": "stdout",
     "output_type": "stream",
     "text": [
      "The final decision tree model applied on the test data has auc: 0.82\n"
     ]
    }
   ],
   "source": [
    "#Lets see if the AUC score changes drastically on the Test data\n",
    "\n",
    "dt = DecisionTreeClassifier(max_depth=2, min_samples_leaf=5)\n",
    "dt.fit(X_fulltrain,y_full_train)\n",
    "y_pred = dt.predict_proba(X_test)[:,1]\n",
    "auc = roc_auc_score(y_test,y_pred)\n",
    "\n",
    "print(f'The final decision tree model applied on the test data has auc: {round(auc,2)}')"
   ]
  },
  {
   "cell_type": "markdown",
   "metadata": {},
   "source": [
    "The auc gets worse with  -3%. Not a big shift, we keep the model"
   ]
  },
  {
   "cell_type": "markdown",
   "metadata": {},
   "source": [
    "### Model Training Random Forest"
   ]
  },
  {
   "cell_type": "code",
   "execution_count": 402,
   "metadata": {},
   "outputs": [],
   "source": [
    "from sklearn.ensemble import RandomForestClassifier\n",
    "\n",
    "estimators = range(10,201,5)\n",
    "depth_options = [2,3,4,5,6,7,8]\n",
    "min_leaves_options = [5, 10, 15,20]"
   ]
  },
  {
   "cell_type": "code",
   "execution_count": 403,
   "metadata": {},
   "outputs": [
    {
     "data": {
      "text/html": [
       "<div>\n",
       "<style scoped>\n",
       "    .dataframe tbody tr th:only-of-type {\n",
       "        vertical-align: middle;\n",
       "    }\n",
       "\n",
       "    .dataframe tbody tr th {\n",
       "        vertical-align: top;\n",
       "    }\n",
       "\n",
       "    .dataframe thead th {\n",
       "        text-align: right;\n",
       "    }\n",
       "</style>\n",
       "<table border=\"1\" class=\"dataframe\">\n",
       "  <thead>\n",
       "    <tr style=\"text-align: right;\">\n",
       "      <th></th>\n",
       "      <th>depth</th>\n",
       "      <th>n_estimator</th>\n",
       "      <th>auc</th>\n",
       "    </tr>\n",
       "  </thead>\n",
       "  <tbody>\n",
       "    <tr>\n",
       "      <th>0</th>\n",
       "      <td>5.0</td>\n",
       "      <td>10.0</td>\n",
       "      <td>0.89</td>\n",
       "    </tr>\n",
       "    <tr>\n",
       "      <th>1</th>\n",
       "      <td>5.0</td>\n",
       "      <td>15.0</td>\n",
       "      <td>0.87</td>\n",
       "    </tr>\n",
       "    <tr>\n",
       "      <th>2</th>\n",
       "      <td>5.0</td>\n",
       "      <td>20.0</td>\n",
       "      <td>0.87</td>\n",
       "    </tr>\n",
       "    <tr>\n",
       "      <th>3</th>\n",
       "      <td>5.0</td>\n",
       "      <td>25.0</td>\n",
       "      <td>0.89</td>\n",
       "    </tr>\n",
       "    <tr>\n",
       "      <th>4</th>\n",
       "      <td>5.0</td>\n",
       "      <td>30.0</td>\n",
       "      <td>0.84</td>\n",
       "    </tr>\n",
       "    <tr>\n",
       "      <th>...</th>\n",
       "      <td>...</td>\n",
       "      <td>...</td>\n",
       "      <td>...</td>\n",
       "    </tr>\n",
       "    <tr>\n",
       "      <th>112</th>\n",
       "      <td>15.0</td>\n",
       "      <td>180.0</td>\n",
       "      <td>0.88</td>\n",
       "    </tr>\n",
       "    <tr>\n",
       "      <th>113</th>\n",
       "      <td>15.0</td>\n",
       "      <td>185.0</td>\n",
       "      <td>0.88</td>\n",
       "    </tr>\n",
       "    <tr>\n",
       "      <th>114</th>\n",
       "      <td>15.0</td>\n",
       "      <td>190.0</td>\n",
       "      <td>0.89</td>\n",
       "    </tr>\n",
       "    <tr>\n",
       "      <th>115</th>\n",
       "      <td>15.0</td>\n",
       "      <td>195.0</td>\n",
       "      <td>0.89</td>\n",
       "    </tr>\n",
       "    <tr>\n",
       "      <th>116</th>\n",
       "      <td>15.0</td>\n",
       "      <td>200.0</td>\n",
       "      <td>0.89</td>\n",
       "    </tr>\n",
       "  </tbody>\n",
       "</table>\n",
       "<p>117 rows × 3 columns</p>\n",
       "</div>"
      ],
      "text/plain": [
       "     depth  n_estimator   auc\n",
       "0      5.0         10.0  0.89\n",
       "1      5.0         15.0  0.87\n",
       "2      5.0         20.0  0.87\n",
       "3      5.0         25.0  0.89\n",
       "4      5.0         30.0  0.84\n",
       "..     ...          ...   ...\n",
       "112   15.0        180.0  0.88\n",
       "113   15.0        185.0  0.88\n",
       "114   15.0        190.0  0.89\n",
       "115   15.0        195.0  0.89\n",
       "116   15.0        200.0  0.89\n",
       "\n",
       "[117 rows x 3 columns]"
      ]
     },
     "execution_count": 403,
     "metadata": {},
     "output_type": "execute_result"
    }
   ],
   "source": [
    "df_auc_rf = pd.DataFrame(columns= ['depth','n_estimator','auc'])\n",
    "\n",
    "depth_options = [5,10,15]\n",
    "\n",
    "#Tune max_depth\n",
    "for depth in depth_options:\n",
    "    for n_estimator in estimators:\n",
    "        #Train\n",
    "        rf = RandomForestClassifier(n_estimators=n_estimator, max_depth=depth)\n",
    "        \n",
    "        rf.fit(X_train,y_train)\n",
    "        #Predict\n",
    "        y_pred = rf.predict_proba(X_val)[:,1]\n",
    "        #Evaluate\n",
    "        auc = roc_auc_score(y_val, y_pred)\n",
    "\n",
    "        \n",
    "        row = [depth, n_estimator, round(auc,2)]\n",
    "        \n",
    "        df_auc_rf.loc[len(df_auc_rf)] = row\n",
    "\n",
    "\n",
    "df_auc_rf"
   ]
  },
  {
   "cell_type": "code",
   "execution_count": 404,
   "metadata": {},
   "outputs": [
    {
     "data": {
      "text/plain": [
       "<matplotlib.legend.Legend at 0x16b4aaf10>"
      ]
     },
     "execution_count": 404,
     "metadata": {},
     "output_type": "execute_result"
    },
    {
     "data": {
      "image/png": "[encoded data removed]",
      "text/plain": [
       "<Figure size 640x480 with 1 Axes>"
      ]
     },
     "metadata": {},
     "output_type": "display_data"
    }
   ],
   "source": [
    "for d in df_auc_rf['depth'].unique():\n",
    "    df_subset = df_auc_rf[df_auc_rf.depth == d]\n",
    "    \n",
    "    plt.plot(df_subset.n_estimator, df_subset.auc,\n",
    "             label='max_depth=%d' % d)\n",
    "\n",
    "plt.legend()"
   ]
  },
  {
   "cell_type": "code",
   "execution_count": 405,
   "metadata": {},
   "outputs": [
    {
     "data": {
      "text/plain": [
       "<matplotlib.legend.Legend at 0x16b5aeb80>"
      ]
     },
     "execution_count": 405,
     "metadata": {},
     "output_type": "execute_result"
    },
    {
     "data": {
      "image/png": "[encoded data removed]",
      "text/plain": [
       "<Figure size 640x480 with 1 Axes>"
      ]
     },
     "metadata": {},
     "output_type": "display_data"
    }
   ],
   "source": [
    "for d in [5,15]:\n",
    "    df_subset = df_auc_rf[df_auc_rf.depth == d]\n",
    "    \n",
    "    plt.plot(df_subset.n_estimator, df_subset.auc,\n",
    "             label='max_depth=%d' % d)\n",
    "\n",
    "plt.legend()"
   ]
  },
  {
   "cell_type": "markdown",
   "metadata": {},
   "source": [
    "We will choose max_depth = 5 as that curve seems to be above the max_depth 15 curve"
   ]
  },
  {
   "cell_type": "code",
   "execution_count": 406,
   "metadata": {},
   "outputs": [],
   "source": [
    "depth =5"
   ]
  },
  {
   "cell_type": "code",
   "execution_count": 407,
   "metadata": {},
   "outputs": [
    {
     "data": {
      "text/html": [
       "<div>\n",
       "<style scoped>\n",
       "    .dataframe tbody tr th:only-of-type {\n",
       "        vertical-align: middle;\n",
       "    }\n",
       "\n",
       "    .dataframe tbody tr th {\n",
       "        vertical-align: top;\n",
       "    }\n",
       "\n",
       "    .dataframe thead th {\n",
       "        text-align: right;\n",
       "    }\n",
       "</style>\n",
       "<table border=\"1\" class=\"dataframe\">\n",
       "  <thead>\n",
       "    <tr style=\"text-align: right;\">\n",
       "      <th></th>\n",
       "      <th>min_leaves</th>\n",
       "      <th>n_estimator</th>\n",
       "      <th>auc</th>\n",
       "    </tr>\n",
       "  </thead>\n",
       "  <tbody>\n",
       "    <tr>\n",
       "      <th>0</th>\n",
       "      <td>2.0</td>\n",
       "      <td>10.0</td>\n",
       "      <td>0.87</td>\n",
       "    </tr>\n",
       "    <tr>\n",
       "      <th>1</th>\n",
       "      <td>2.0</td>\n",
       "      <td>15.0</td>\n",
       "      <td>0.87</td>\n",
       "    </tr>\n",
       "    <tr>\n",
       "      <th>2</th>\n",
       "      <td>2.0</td>\n",
       "      <td>20.0</td>\n",
       "      <td>0.88</td>\n",
       "    </tr>\n",
       "    <tr>\n",
       "      <th>3</th>\n",
       "      <td>2.0</td>\n",
       "      <td>25.0</td>\n",
       "      <td>0.90</td>\n",
       "    </tr>\n",
       "    <tr>\n",
       "      <th>4</th>\n",
       "      <td>2.0</td>\n",
       "      <td>30.0</td>\n",
       "      <td>0.89</td>\n",
       "    </tr>\n",
       "    <tr>\n",
       "      <th>...</th>\n",
       "      <td>...</td>\n",
       "      <td>...</td>\n",
       "      <td>...</td>\n",
       "    </tr>\n",
       "    <tr>\n",
       "      <th>112</th>\n",
       "      <td>8.0</td>\n",
       "      <td>180.0</td>\n",
       "      <td>0.90</td>\n",
       "    </tr>\n",
       "    <tr>\n",
       "      <th>113</th>\n",
       "      <td>8.0</td>\n",
       "      <td>185.0</td>\n",
       "      <td>0.91</td>\n",
       "    </tr>\n",
       "    <tr>\n",
       "      <th>114</th>\n",
       "      <td>8.0</td>\n",
       "      <td>190.0</td>\n",
       "      <td>0.89</td>\n",
       "    </tr>\n",
       "    <tr>\n",
       "      <th>115</th>\n",
       "      <td>8.0</td>\n",
       "      <td>195.0</td>\n",
       "      <td>0.90</td>\n",
       "    </tr>\n",
       "    <tr>\n",
       "      <th>116</th>\n",
       "      <td>8.0</td>\n",
       "      <td>200.0</td>\n",
       "      <td>0.89</td>\n",
       "    </tr>\n",
       "  </tbody>\n",
       "</table>\n",
       "<p>117 rows × 3 columns</p>\n",
       "</div>"
      ],
      "text/plain": [
       "     min_leaves  n_estimator   auc\n",
       "0           2.0         10.0  0.87\n",
       "1           2.0         15.0  0.87\n",
       "2           2.0         20.0  0.88\n",
       "3           2.0         25.0  0.90\n",
       "4           2.0         30.0  0.89\n",
       "..          ...          ...   ...\n",
       "112         8.0        180.0  0.90\n",
       "113         8.0        185.0  0.91\n",
       "114         8.0        190.0  0.89\n",
       "115         8.0        195.0  0.90\n",
       "116         8.0        200.0  0.89\n",
       "\n",
       "[117 rows x 3 columns]"
      ]
     },
     "execution_count": 407,
     "metadata": {},
     "output_type": "execute_result"
    }
   ],
   "source": [
    "#Tune min_samples_lef\n",
    "df_auc_rf = pd.DataFrame(columns= ['depth','n_estimator','auc'])\n",
    "\n",
    "\n",
    "df_auc_rf.rename(columns={'depth':'min_leaves'}, inplace = True)\n",
    "\n",
    "min_leaf_option = [2,5,8]\n",
    "\n",
    "#Tune max_depth\n",
    "for min_leaf in min_leaf_option:\n",
    "    for n_estimator in estimators:\n",
    "        #Train\n",
    "        rf = RandomForestClassifier(n_estimators=n_estimator, max_depth=depth, min_samples_leaf=min_leaf)\n",
    "        \n",
    "        rf.fit(X_train,y_train)\n",
    "        #Predict\n",
    "        y_pred = rf.predict_proba(X_val)[:,1]\n",
    "        #Evaluate\n",
    "        auc = roc_auc_score(y_val, y_pred)\n",
    "\n",
    "        \n",
    "        row = [min_leaf, n_estimator, round(auc,2)]\n",
    "        \n",
    "        df_auc_rf.loc[len(df_auc_rf)] = row\n",
    "\n",
    "\n",
    "df_auc_rf"
   ]
  },
  {
   "cell_type": "code",
   "execution_count": 408,
   "metadata": {},
   "outputs": [
    {
     "data": {
      "text/plain": [
       "<matplotlib.legend.Legend at 0x16bb434c0>"
      ]
     },
     "execution_count": 408,
     "metadata": {},
     "output_type": "execute_result"
    },
    {
     "data": {
      "image/png": "[encoded data removed]",
      "text/plain": [
       "<Figure size 640x480 with 1 Axes>"
      ]
     },
     "metadata": {},
     "output_type": "display_data"
    }
   ],
   "source": [
    "for cat in df_auc_rf['min_leaves'].unique():\n",
    "    df_subset = df_auc_rf[df_auc_rf['min_leaves']==cat]\n",
    "    plt.plot(df_subset.n_estimator,df_subset.auc,label = cat)\n",
    "\n",
    "plt.legend()"
   ]
  },
  {
   "cell_type": "markdown",
   "metadata": {},
   "source": [
    "Min_Leaf = 8 yields the best results"
   ]
  },
  {
   "cell_type": "code",
   "execution_count": 409,
   "metadata": {},
   "outputs": [
    {
     "name": "stdout",
     "output_type": "stream",
     "text": [
      "0.898\n"
     ]
    }
   ],
   "source": [
    "#Create final model\n",
    "\n",
    "rf = RandomForestClassifier(n_estimators=200, max_depth=5, min_samples_leaf=8,random_state=1)\n",
    "\n",
    "rf.fit(X_train,y_train)\n",
    "#Predict\n",
    "y_pred = rf.predict_proba(X_val)[:,1]\n",
    "#Evaluate\n",
    "auc = roc_auc_score(y_val, y_pred)\n",
    "print(round(auc,3))"
   ]
  },
  {
   "cell_type": "code",
   "execution_count": 410,
   "metadata": {},
   "outputs": [
    {
     "name": "stdout",
     "output_type": "stream",
     "text": [
      "The final random forest model applied on the test data has auc: 0.91\n"
     ]
    }
   ],
   "source": [
    "#Use full train to train model\n",
    "\n",
    "rf.fit(X_fulltrain,y_full_train)\n",
    "#Predict\n",
    "y_pred = rf.predict_proba(X_test)[:,1]\n",
    "#Evaluate\n",
    "auc = roc_auc_score(y_test, y_pred)\n",
    "\n",
    "print(f'The final random forest model applied on the test data has auc: {round(auc,2)}')"
   ]
  },
  {
   "cell_type": "code",
   "execution_count": 411,
   "metadata": {},
   "outputs": [
    {
     "name": "stdout",
     "output_type": "stream",
     "text": [
      "The final random forest model applied on the test data has auc: 0.91\n"
     ]
    }
   ],
   "source": [
    "y_pred = rf.predict_proba(X_test)[:,1]\n",
    "#Evaluate\n",
    "auc = roc_auc_score(y_test, y_pred)\n",
    "\n",
    "print(f'The final random forest model applied on the test data has auc: {round(auc,2)}')"
   ]
  },
  {
   "cell_type": "code",
   "execution_count": 416,
   "metadata": {},
   "outputs": [
    {
     "data": {
      "text/plain": [
       "0.4710584"
      ]
     },
     "execution_count": 416,
     "metadata": {},
     "output_type": "execute_result"
    }
   ],
   "source": [
    "y_pred[0]"
   ]
  },
  {
   "cell_type": "markdown",
   "metadata": {},
   "source": [
    "### Model Training XGBoost"
   ]
  },
  {
   "cell_type": "code",
   "execution_count": 412,
   "metadata": {},
   "outputs": [],
   "source": [
    "#Testing a GradientBoost Model with XGBoost\n",
    "import xgboost as xgb\n"
   ]
  },
  {
   "cell_type": "code",
   "execution_count": 413,
   "metadata": {},
   "outputs": [],
   "source": [
    "features = dv.get_feature_names_out().tolist()\n",
    "dtrain = xgb.DMatrix(X_train, label=y_train, feature_names=features)\n",
    "dval = xgb.DMatrix(X_val, label=y_val, feature_names=features)\n",
    "xgb_params = {\n",
    "    'eta': 0.1, \n",
    "    'max_depth': 5,\n",
    "    'min_child_weight': 1,\n",
    "    \n",
    "    'objective': 'binary:logistic',\n",
    "    'nthread': 8,\n",
    "    \n",
    "    'seed': 1,\n",
    "    'verbosity': 1,\n",
    "}\n",
    "\n",
    "model = xgb.train(xgb_params, dtrain, num_boost_round=10)\n",
    "y_pred = model.predict(dval)\n",
    "#roc_auc_score(y_val, y_pred)"
   ]
  },
  {
   "cell_type": "code",
   "execution_count": 414,
   "metadata": {},
   "outputs": [
    {
     "name": "stdout",
     "output_type": "stream",
     "text": [
      "The final gradient boso model applied on the test data has auc: 0.7\n"
     ]
    }
   ],
   "source": [
    "dtest = xgb.DMatrix(X_test, label=y_test, feature_names=features)\n",
    "y_pred = model.predict(dtest)\n",
    "auc = roc_auc_score(y_val, y_pred)\n",
    "print(f'The final gradient boso model applied on the test data has auc: {round(auc,2)}')"
   ]
  },
  {
   "cell_type": "markdown",
   "metadata": {},
   "source": [
    "#### The tuned random forest model RandomForestClassifier(n_estimators=200, max_depth=5, min_samples_leaf=8,random_state=1) has the highest AUC and will be deployed"
   ]
  },
  {
   "cell_type": "markdown",
   "metadata": {},
   "source": []
  }
 ],
 "metadata": {
  "kernelspec": {
   "display_name": "homework-iNNgU132",
   "language": "python",
   "name": "python3"
  },
  "language_info": {
   "codemirror_mode": {
    "name": "ipython",
    "version": 3
   },
   "file_extension": ".py",
   "mimetype": "text/x-python",
   "name": "python",
   "nbconvert_exporter": "python",
   "pygments_lexer": "ipython3",
   "version": "3.9.17"
  }
 },
 "nbformat": 4,
 "nbformat_minor": 2
}
